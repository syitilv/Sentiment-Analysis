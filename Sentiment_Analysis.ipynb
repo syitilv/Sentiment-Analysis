{
  "nbformat": 4,
  "nbformat_minor": 0,
  "metadata": {
    "colab": {
      "name": "TextClassification-1301174515.ipynb",
      "provenance": [],
      "collapsed_sections": [],
      "toc_visible": true
    },
    "kernelspec": {
      "name": "python3",
      "display_name": "Python 3"
    }
  },
  "cells": [
    {
      "cell_type": "markdown",
      "metadata": {
        "id": "FjXxqpusDuE4",
        "colab_type": "text"
      },
      "source": [
        "#Scraping Tweet"
      ]
    },
    {
      "cell_type": "code",
      "metadata": {
        "id": "oC_sdzcPDp9I",
        "colab_type": "code",
        "colab": {
          "base_uri": "https://localhost:8080/",
          "height": 1000
        },
        "outputId": "cc4d6e31-a8cb-4cda-a45b-1e8a015d4b50"
      },
      "source": [
        "!pip3 install twint"
      ],
      "execution_count": 1,
      "outputs": [
        {
          "output_type": "stream",
          "text": [
            "Collecting twint\n",
            "  Downloading https://files.pythonhosted.org/packages/c5/d3/5a249973e0fdd5af1e505680e63ec1041ebba52a8b1dd12b758711c7201c/twint-2.1.19.tar.gz\n",
            "Collecting aiohttp\n",
            "\u001b[?25l  Downloading https://files.pythonhosted.org/packages/7c/39/7eb5f98d24904e0f6d3edb505d4aa60e3ef83c0a58d6fe18244a51757247/aiohttp-3.6.2-cp36-cp36m-manylinux1_x86_64.whl (1.2MB)\n",
            "\u001b[K     |████████████████████████████████| 1.2MB 13.3MB/s \n",
            "\u001b[?25hCollecting aiodns\n",
            "  Downloading https://files.pythonhosted.org/packages/da/01/8f2d49b441573fd2478833bdba91cf0b853b4c750a1fbb9e98de1b94bb22/aiodns-2.0.0-py2.py3-none-any.whl\n",
            "Requirement already satisfied: beautifulsoup4 in /usr/local/lib/python3.6/dist-packages (from twint) (4.6.3)\n",
            "Collecting cchardet\n",
            "\u001b[?25l  Downloading https://files.pythonhosted.org/packages/1e/c5/7e1a0d7b4afd83d6f8de794fce82820ec4c5136c6d52e14000822681a842/cchardet-2.1.6-cp36-cp36m-manylinux2010_x86_64.whl (241kB)\n",
            "\u001b[K     |████████████████████████████████| 245kB 52.8MB/s \n",
            "\u001b[?25hCollecting elasticsearch\n",
            "\u001b[?25l  Downloading https://files.pythonhosted.org/packages/cc/cf/7973ac58090b960857da04add0b345415bf1e1741beddf4cbe136b8ad174/elasticsearch-7.6.0-py2.py3-none-any.whl (88kB)\n",
            "\u001b[K     |████████████████████████████████| 92kB 12.6MB/s \n",
            "\u001b[?25hRequirement already satisfied: pysocks in /usr/local/lib/python3.6/dist-packages (from twint) (1.7.1)\n",
            "Requirement already satisfied: pandas in /usr/local/lib/python3.6/dist-packages (from twint) (1.0.3)\n",
            "Collecting aiohttp_socks\n",
            "  Downloading https://files.pythonhosted.org/packages/9a/1c/f3ce140410d9d37eeac79181f3b310eb2d4ac685f6c0ff9df90e9ef1ac78/aiohttp_socks-0.3.8-py3-none-any.whl\n",
            "Collecting schedule\n",
            "  Downloading https://files.pythonhosted.org/packages/57/22/3a709462eb02412bd1145f6e53604f36bba191e3e4e397bea4a718fec38c/schedule-0.6.0-py2.py3-none-any.whl\n",
            "Requirement already satisfied: geopy in /usr/local/lib/python3.6/dist-packages (from twint) (1.17.0)\n",
            "Collecting fake-useragent\n",
            "  Downloading https://files.pythonhosted.org/packages/d1/79/af647635d6968e2deb57a208d309f6069d31cb138066d7e821e575112a80/fake-useragent-0.1.11.tar.gz\n",
            "Collecting googletransx\n",
            "  Downloading https://files.pythonhosted.org/packages/27/e1/77cd530afec7944d40c5bdd260bcc111be4012b045c82d4e3ffec90b2a42/googletransx-2.4.2.tar.gz\n",
            "Collecting multidict<5.0,>=4.5\n",
            "\u001b[?25l  Downloading https://files.pythonhosted.org/packages/30/2e/3ab2f1fb72571f75013db323a3799d505d99f3bc203513604f1ffb9b7858/multidict-4.7.5-cp36-cp36m-manylinux1_x86_64.whl (148kB)\n",
            "\u001b[K     |████████████████████████████████| 153kB 51.1MB/s \n",
            "\u001b[?25hRequirement already satisfied: chardet<4.0,>=2.0 in /usr/local/lib/python3.6/dist-packages (from aiohttp->twint) (3.0.4)\n",
            "Requirement already satisfied: attrs>=17.3.0 in /usr/local/lib/python3.6/dist-packages (from aiohttp->twint) (19.3.0)\n",
            "Requirement already satisfied: typing-extensions>=3.6.5; python_version < \"3.7\" in /usr/local/lib/python3.6/dist-packages (from aiohttp->twint) (3.6.6)\n",
            "Collecting yarl<2.0,>=1.0\n",
            "\u001b[?25l  Downloading https://files.pythonhosted.org/packages/95/8f/0209fc5d975f839344c33c822ff2f7ef80f6b1e984673a5a68f960bfa583/yarl-1.4.2-cp36-cp36m-manylinux1_x86_64.whl (252kB)\n",
            "\u001b[K     |████████████████████████████████| 256kB 52.2MB/s \n",
            "\u001b[?25hCollecting idna-ssl>=1.0; python_version < \"3.7\"\n",
            "  Downloading https://files.pythonhosted.org/packages/46/03/07c4894aae38b0de52b52586b24bf189bb83e4ddabfe2e2c8f2419eec6f4/idna-ssl-1.1.0.tar.gz\n",
            "Collecting async-timeout<4.0,>=3.0\n",
            "  Downloading https://files.pythonhosted.org/packages/e1/1e/5a4441be21b0726c4464f3f23c8b19628372f606755a9d2e46c187e65ec4/async_timeout-3.0.1-py3-none-any.whl\n",
            "Collecting pycares>=3.0.0\n",
            "\u001b[?25l  Downloading https://files.pythonhosted.org/packages/43/2d/7f4984a23f6e99cf6a8b20ddc59308efb209fe81e79c97af65e9b30eefae/pycares-3.1.1-cp36-cp36m-manylinux2010_x86_64.whl (228kB)\n",
            "\u001b[K     |████████████████████████████████| 235kB 49.7MB/s \n",
            "\u001b[?25hRequirement already satisfied: typing; python_version < \"3.7\" in /usr/local/lib/python3.6/dist-packages (from aiodns->twint) (3.6.6)\n",
            "Requirement already satisfied: urllib3>=1.21.1 in /usr/local/lib/python3.6/dist-packages (from elasticsearch->twint) (1.24.3)\n",
            "Requirement already satisfied: python-dateutil>=2.6.1 in /usr/local/lib/python3.6/dist-packages (from pandas->twint) (2.8.1)\n",
            "Requirement already satisfied: numpy>=1.13.3 in /usr/local/lib/python3.6/dist-packages (from pandas->twint) (1.18.3)\n",
            "Requirement already satisfied: pytz>=2017.2 in /usr/local/lib/python3.6/dist-packages (from pandas->twint) (2018.9)\n",
            "Requirement already satisfied: geographiclib<2,>=1.49 in /usr/local/lib/python3.6/dist-packages (from geopy->twint) (1.50)\n",
            "Requirement already satisfied: requests in /usr/local/lib/python3.6/dist-packages (from googletransx->twint) (2.21.0)\n",
            "Requirement already satisfied: idna>=2.0 in /usr/local/lib/python3.6/dist-packages (from yarl<2.0,>=1.0->aiohttp->twint) (2.8)\n",
            "Requirement already satisfied: cffi>=1.5.0 in /usr/local/lib/python3.6/dist-packages (from pycares>=3.0.0->aiodns->twint) (1.14.0)\n",
            "Requirement already satisfied: six>=1.5 in /usr/local/lib/python3.6/dist-packages (from python-dateutil>=2.6.1->pandas->twint) (1.12.0)\n",
            "Requirement already satisfied: certifi>=2017.4.17 in /usr/local/lib/python3.6/dist-packages (from requests->googletransx->twint) (2020.4.5.1)\n",
            "Requirement already satisfied: pycparser in /usr/local/lib/python3.6/dist-packages (from cffi>=1.5.0->pycares>=3.0.0->aiodns->twint) (2.20)\n",
            "Building wheels for collected packages: twint, fake-useragent, googletransx, idna-ssl\n",
            "  Building wheel for twint (setup.py) ... \u001b[?25l\u001b[?25hdone\n",
            "  Created wheel for twint: filename=twint-2.1.19-cp36-none-any.whl size=33519 sha256=e1061981116ac5a45826c36dd139a982a160dd4c8735b6abfce8329825ebd375\n",
            "  Stored in directory: /root/.cache/pip/wheels/cf/d1/88/bebb59d5991c3744d4aecda0a6491e6ec22259ea85eb6e9a31\n",
            "  Building wheel for fake-useragent (setup.py) ... \u001b[?25l\u001b[?25hdone\n",
            "  Created wheel for fake-useragent: filename=fake_useragent-0.1.11-cp36-none-any.whl size=13484 sha256=a76f8c8b458325dc341d84faf2624dc90e6772486c379396db0e526aadb43ee8\n",
            "  Stored in directory: /root/.cache/pip/wheels/5e/63/09/d1dc15179f175357d3f5c00cbffbac37f9e8690d80545143ff\n",
            "  Building wheel for googletransx (setup.py) ... \u001b[?25l\u001b[?25hdone\n",
            "  Created wheel for googletransx: filename=googletransx-2.4.2-cp36-none-any.whl size=15969 sha256=d6fa3a6938e1abdbc2eb4c73842363248f0a421e49e434d23b7b00e0f9f17af2\n",
            "  Stored in directory: /root/.cache/pip/wheels/04/63/5f/75e7e94eb62517946116a783e4cd8970c4789c990bbc732616\n",
            "  Building wheel for idna-ssl (setup.py) ... \u001b[?25l\u001b[?25hdone\n",
            "  Created wheel for idna-ssl: filename=idna_ssl-1.1.0-cp36-none-any.whl size=3162 sha256=bfbde9e82db77b30a4300507a7abad1454c22607260c60bc78d7cbe27293a63e\n",
            "  Stored in directory: /root/.cache/pip/wheels/d3/00/b3/32d613e19e08a739751dd6bf998cfed277728f8b2127ad4eb7\n",
            "Successfully built twint fake-useragent googletransx idna-ssl\n",
            "Installing collected packages: multidict, yarl, idna-ssl, async-timeout, aiohttp, pycares, aiodns, cchardet, elasticsearch, aiohttp-socks, schedule, fake-useragent, googletransx, twint\n",
            "Successfully installed aiodns-2.0.0 aiohttp-3.6.2 aiohttp-socks-0.3.8 async-timeout-3.0.1 cchardet-2.1.6 elasticsearch-7.6.0 fake-useragent-0.1.11 googletransx-2.4.2 idna-ssl-1.1.0 multidict-4.7.5 pycares-3.1.1 schedule-0.6.0 twint-2.1.19 yarl-1.4.2\n"
          ],
          "name": "stdout"
        }
      ]
    },
    {
      "cell_type": "code",
      "metadata": {
        "id": "yp57rQ5_D1YC",
        "colab_type": "code",
        "colab": {}
      },
      "source": [
        "import twint as tw"
      ],
      "execution_count": 0,
      "outputs": []
    },
    {
      "cell_type": "code",
      "metadata": {
        "id": "d7h7GxvOD3U4",
        "colab_type": "code",
        "colab": {
          "base_uri": "https://localhost:8080/",
          "height": 1000
        },
        "outputId": "d1191c59-72b6-448c-88d9-4716d7dae285"
      },
      "source": [
        "c = tw.Config()\n",
        "c.Username = \"tirtoid\"\n",
        "c.Limit = 150\n",
        "c.Store_csv = True\n",
        "c.Output = \"tirtoid.csv\"\n",
        "c.Format = \"Tweet_id: {id} | Date: {date} | Time: {time} | Tweet: {tweet}\"\n",
        "\n",
        "tw.run.Search(c)"
      ],
      "execution_count": 26,
      "outputs": [
        {
          "output_type": "stream",
          "text": [
            "Tweet_id: 1253949363614711808 | Date: 2020-04-25 | Time: 07:30:00 | Tweet: Podcast dianggap bisa menghadirkan fleksibilitas dan dinamisnya gaya hidup anak muda. Selain itu, yang bikin ia tampak istimewa, menawarkan kedekatan personal lewat beragam tema spesifik sesuai selera. #ads  http://tirto.id/eRVs  pic.twitter.com/2qkXfYR3zg\n",
            "Tweet_id: 1253944685300641792 | Date: 2020-04-25 | Time: 07:11:24 | Tweet: Menkopolhukam Mahfud MD menyampaikan rasa syukurnya setelah Ravio Patra dilepas oleh Polda Metro Jaya.  “Biasanya orang yang brutal itu kalau ingin menyembunyikan diri salah satunya dengan cara meretas [akun] punya orang.\" http://tirto.id/e2a3 \n",
            "Tweet_id: 1253941815738109952 | Date: 2020-04-25 | Time: 07:00:00 | Tweet: Ajaran-ajaran kuno tentang kebijaksanaan kembali populer di tengah masa-masa sulit seperti pandemi. Taoisme dan stoikisme, anyone?   http://tirto.id/eKqC  pic.twitter.com/pihoB476ZB\n",
            "Tweet_id: 1253932704279564289 | Date: 2020-04-25 | Time: 06:23:48 | Tweet: Belva Syah Devara, CEO Ruangguru, memang sudah mundur dari kursi stafsus milenial. Namun, masalahnya tidak selesai begitu saja. Banyak hal yang masih perlu diperjelas. http://tirto.id/eVig \n",
            "Tweet_id: 1253911616191488000 | Date: 2020-04-25 | Time: 05:00:00 | Tweet: “Bisri Syansuri tak percaya akan pendekatan ‘pragmatik’ terhadap politik. Sebagaimana kebanyakan ulama NU, ia enggan terlibat konfrontasi dengan pemerintah, tapi berlainan dengan banyak politisi NU, ia tidak mau surut dalam hal-hal prinsip,” #MozaikTirto  http://tirto.id/c9V2  pic.twitter.com/eLMOK3T578\n",
            "Tweet_id: 1253905192518479873 | Date: 2020-04-25 | Time: 04:34:28 | Tweet: Menawarkan kedekatan personal dengan beragam tema yang spesifik bikin podcast tampak istimewa. Podcast juga dianggap bisa menghadirkan fleksibilitas dan dinamisnya gaya hidup anak muda. #ads http://tirto.id/eRVs \n",
            "Tweet_id: 1253900290308354051 | Date: 2020-04-25 | Time: 04:15:00 | Tweet: Drama itu banyak bentuknya, dan salah satunya mungkin hadir ketika sudah saatnya si kecil disapih. Semangat ayah bunda, semoga sehat-sehat selalu sekeluarga~   https://tirto.id/eExd  pic.twitter.com/KAROluZho6\n",
            "Tweet_id: 1253881417156775937 | Date: 2020-04-25 | Time: 03:00:00 | Tweet: Pilihan karier menjanjikan buat klalian yang merasa punya bakat:   http://tirto.id/eEZP  pic.twitter.com/p38kRFLh5j\n",
            "Tweet_id: 1253866316462788610 | Date: 2020-04-25 | Time: 02:00:00 | Tweet: Meski Belva Devara dan Andi Taufan mundur dari staf khusus milenial Jokowi, masalah 'skandal' surat relawan desa dan proyek Kartu Prakerja belum juga tuntas. http://tirto.id/eXre \n",
            "Tweet_id: 1253851218155200515 | Date: 2020-04-25 | Time: 01:00:00 | Tweet: Kiai Bisri Syansuri terkenal sebagai ulama ahli fikih yang menerapkannya dalam politik. Ia adalah seorang pembela NU hingga ia mengembuskan napas terakhirnya, tepat hari ini 40 tahun lalu, #MozaikTirto http://tirto.id/c9V2 \n",
            "Tweet_id: 1253803049765744643 | Date: 2020-04-24 | Time: 21:48:36 | Tweet: Arab di akhir abad ke-6 bagai pelanduk di antara dua gajah. Saat itu, Byzantium dan Sasaniyah gencar saling berebut pengaruh dan wilayah. Di tengah konteks geopolitik seperti ini Nabi Muhammad lahir & kelak meraih tempat tersendiri dalam sejarah. #Tarikh https://tirto.id/eZnz \n",
            "Tweet_id: 1253700222212960262 | Date: 2020-04-24 | Time: 15:00:00 | Tweet: Malek Bennabi mendorong umat Islam melakukan transformasi radikal serta mereka ulang hubungan sosial di antara kaum muslim. #AlIlmuNuurun  https://tirto.id/eQds  pic.twitter.com/B1kVUMh6lM\n",
            "Tweet_id: 1253685125599997952 | Date: 2020-04-24 | Time: 14:00:00 | Tweet: Pentingnya video game dalam situasi sekarang turut didukung oleh WHO.  Drop your game ID! Anjay mabar 👊🏻😎  https://tirto.id/eKcn  pic.twitter.com/fAAEtos8kO\n",
            "Tweet_id: 1253673798164938752 | Date: 2020-04-24 | Time: 13:15:00 | Tweet: Permintaan juru tik terampil yang meningkat di akhir abad ke-19, membuka peluang bagi pekerja perempuan. Meningkatkan komposisi perempuan di ruang-ruang kantor dan mendorong kuatnya gerakan emansipasi pada waktu itu.   https://tirto.id/diiF  pic.twitter.com/jQSe6CnlPA\n",
            "Tweet_id: 1253662473514868741 | Date: 2020-04-24 | Time: 12:30:00 | Tweet: RUU Cipta Kerja ini menghilangkan banyak hak buruh, mengatur perluasan sistem kerja kontrak dan outsourcing yang dianggap akan lebih merentankan para pekerja, juga dianggap mempermudah PHK. https://tirto.id/eVY4 \n",
            "Tweet_id: 1253658698410610689 | Date: 2020-04-24 | Time: 12:15:00 | Tweet: \"Mereka semua penyandang disabilitas ganda yang sangat membutuhkan pendampingan.\" https://tirto.id/eUuf \n",
            "Tweet_id: 1253654927328583680 | Date: 2020-04-24 | Time: 12:00:01 | Tweet: Pokok pikiran Malek Bennabi berputar soal peradaban manusia pada umumnya dan peradaban Islam pada khususnya. Salah satu sumbangan terbesar Bennabi ialah soal dinamika kebudayaan manusia. #AlIlmuNuurun https://tirto.id/eQds \n",
            "Tweet_id: 1253651148785016837 | Date: 2020-04-24 | Time: 11:45:00 | Tweet: Mereka didakwa dengan tuduhan makar dan pemufakatan jahat. https://tirto.id/eVY1 \n",
            "Tweet_id: 1253647374095876096 | Date: 2020-04-24 | Time: 11:30:00 | Tweet: \"Penanganan pandeminya enggak jelas, siapa yang jadi komandan? Luhut Panjaitan atau Ketua Satgas atau siapa? setiap orang bicara,\" kata Faisal. https://tirto.id/eVhy \n",
            "Tweet_id: 1253640076040343552 | Date: 2020-04-24 | Time: 11:01:00 | Tweet: Pohon-pohon kina pertama masuk Indonesia karena andil Hasskarl pada 1854. Namun, “Penyesuaian dengan iklim yang dilakukan di Cibodas dan pembangunan perkebunannya yang pertama di daerah Pangalengan berada di bawah pengawasan FW Junghuhn.” #MozaikTirto  https://tirto.id/cvjv  pic.twitter.com/haDrg2Awf1\n",
            "Tweet_id: 1253633532867600384 | Date: 2020-04-24 | Time: 10:35:00 | Tweet: Maraknya tindak kejahatan oleh napi yang ikut asimilasi malah menambah keresahan masyarakat, seakan-akan belum cukup keresahan yang timbul akibat pandemi COVID-19, PHK, dan masalah lainnya. https://tirto.id/eU7d \n",
            "Tweet_id: 1253624725378494464 | Date: 2020-04-24 | Time: 10:00:00 | Tweet: Untuk mengatasi kebosanan selama masa isolasi, layanan streaming dan hiburan online lain jadi pilihan. Selain itu, beberapa orang juga memilih video game untuk melawan bosan. OTW login~ https://tirto.id/eKcn \n",
            "Tweet_id: 1253617175513817089 | Date: 2020-04-24 | Time: 09:30:00 | Tweet: \"Pemerintah harus lebih gencar lagi melakukan edukasi dan sosialisasi kepada masyarakat agar menerapkan PSBB. Bisa melibatkan RT/RW yang bersentuhan langsung dengan masyarakat.\" https://tirto.id/eT16 \n",
            "Tweet_id: 1253616691608576002 | Date: 2020-04-24 | Time: 09:28:05 | Tweet: Kasus positif COVID-19 di Indonesia menjadi 8.211 orang, total 1.002 pasien dinyatakan sembuh, total 689 orang meninggal. https://tirto.id/eUBG \n",
            "Tweet_id: 1253613399981735937 | Date: 2020-04-24 | Time: 09:15:00 | Tweet: Ada tiga rekomendasi yang harus tetap dilakukan para pekerja. Pertama, pastikan keputusan PHK atau dirumahkan tidak terjadi sepihak. Kedua, negosiasi dengan perusahaan. Dan, ketiga, tentu saja: berserikat.   https://tirto.id/eNC6  pic.twitter.com/2lyFBdCXCY\n",
            "Tweet_id: 1253594526456791040 | Date: 2020-04-24 | Time: 08:00:00 | Tweet: Menawarkan kedekatan personal dengan beragam tema yang spesifik bikin podcast tampak istimewa. Podcast juga dianggap bisa menghadirkan fleksibilitas dan dinamisnya gaya hidup anak muda. #ads  https://tirto.id/eRVs  pic.twitter.com/cks1GEhisu\n",
            "Tweet_id: 1253586976990801920 | Date: 2020-04-24 | Time: 07:30:00 | Tweet: Tak ada yang bisa ditawar dalam menghadapi pandemi. Satu-satunya cara adalah mengerahkan seluruh sumber daya, meski konsekuensinya berbagai proyek tertunda, persis karena tidak ada yang tahu berapa lama pandemi ini akan bertahan. https://tirto.id/eoS9 \n",
            "Tweet_id: 1253579677937131522 | Date: 2020-04-24 | Time: 07:01:00 | Tweet: Bisnis retail mewah, perhiasan, dan produk kecantikan di Cina dikabarkan mulai menunjukkan tanda-tanda membaik. Harapan itu muncul karena sebagian konsumen di Cina disebut-sebut melakukan revenge spending.    https://tirto.id/eNWh  pic.twitter.com/7K0R2w2mpW\n",
            "Tweet_id: 1253575902908149760 | Date: 2020-04-24 | Time: 06:46:00 | Tweet: Penasihat hukum menemukan sejumlah kejanggalan dalam pemeriksaan Ravio Patra. Salah satunya adalah betapa sulitnya ia didampingi. https://tirto.id/eUbY \n",
            "Tweet_id: 1253571876816707586 | Date: 2020-04-24 | Time: 06:30:00 | Tweet: Sejarah Ka'bah jauh lebih panjang dibanding sejarah Islam. Setelah Ismail meninggal, lewat proses selama ribuan tahun, Ka'bah sempat menjadi semacam kuil bagi kaum pagan. #Tarikh https://tirto.id/eTZT \n",
            "Tweet_id: 1253568353135931393 | Date: 2020-04-24 | Time: 06:16:00 | Tweet: Pembajakan WhatsApp menimpa Ravio Patra, peneliti kebijakan publik, pada Rabu pekan ini. Selama dua jam, akun WhatsApp Ravio diduga telah dikuasai pembajak. Bagaimana modusnya? https://tirto.id/eTeT \n",
            "Tweet_id: 1253564578438369281 | Date: 2020-04-24 | Time: 06:01:00 | Tweet: Sejak Revolusi Industri, populasi besar sama dengan tenaga kerja melimpah dan juga berarti perolehan suara yang besar.  Pengemudi dan pelanggan ojek online adalah populasi besar. Perlakuan istimewa tentu dapat diberikan pemerintah. https://tirto.id/eNqT \n",
            "Tweet_id: 1253557028808622081 | Date: 2020-04-24 | Time: 05:31:00 | Tweet: Karier sebagai petugas kesehatan tak seperti yang ia harapkan. Franz Wilhelm Junghuhn lantas menjadi tabib militer untuk KNIL. Di Hindia Belanda, Junghuhn tak hanya menemukan kehidupan baru, tapi juga Kawah Putih. #MozaikTirto  https://tirto.id/cvjv  pic.twitter.com/ufMP3oHFSD\n",
            "Tweet_id: 1253553253582696448 | Date: 2020-04-24 | Time: 05:16:00 | Tweet: Staf khusus milenial Presiden Jokowi Andi Taufan Garuda mengundurkan diri dari jabatan sebagai stafsus Presiden Jokowi, Jumat (24/4/2020). https://tirto.id/eUbE \n",
            "Tweet_id: 1253549227973545985 | Date: 2020-04-24 | Time: 05:00:00 | Tweet: Kombinasi sarang burung walet dan kurma punya beragam manfaat buat tubuh. Nutrisi yang dikandung berfungsi menggantikan energi tubuh yang hilang selama berpuasa. #ads  http://tirto.id/eQeB  pic.twitter.com/RZc6SMsnPw\n",
            "Tweet_id: 1253541928991408128 | Date: 2020-04-24 | Time: 04:31:00 | Tweet: Pernyataan Kapolres Sidoarjo soal \"tembak di tempat di bagian dada\" saat PSBB tak sesuai prosedur dan juga berbahaya. Yang perlu diutamakan adalah tindakan preventif. https://tirto.id/eRUy \n",
            "Tweet_id: 1253534379420389376 | Date: 2020-04-24 | Time: 04:01:00 | Tweet: Sampai saat ini, konsumen Tiongkok adalah pasar terbesar bagi produk fesyen. Mereka yang hobi berbelanja tidak serta merta berhenti mengonsumsi barang kesukaan meski pandemi melanda.   Karena fesyen adalah investasi~ https://tirto.id/eNWh \n",
            "Tweet_id: 1253526829614264320 | Date: 2020-04-24 | Time: 03:31:00 | Tweet: Kerap kali orang-orang punya kecenderungan \"ingin tampil\" saja, tidak selamanya bermotif buruk. Tersangka kasus hoaks COVID-19 diminta tidak langsung dipenjara. Cukup diwajibkan lapor. https://tirto.id/eRQe \n",
            "Tweet_id: 1253519029526040576 | Date: 2020-04-24 | Time: 03:00:00 | Tweet: Paduan sarang burung walet dan kurma memiliki banyak manfaat bagi tubuh. Kandungan nutrisinya berfungsi menggantikan energi tubuh yang hilang selama berpuasa. #ads http://tirto.id/eQeB \n",
            "Tweet_id: 1253504180305739777 | Date: 2020-04-24 | Time: 02:01:00 | Tweet: Peretasan dan penyebaran pesan provokatif diduga sebagai upaya untuk mengkriminalisasi Ravio Patra. Kejadian ini juga diduga berhubungan dengan gencarnya Ravio mengkritik kebijakan pemerintah. https://tirto.id/eRXB \n",
            "Tweet_id: 1253489080974835715 | Date: 2020-04-24 | Time: 01:01:00 | Tweet: Tentu ada alasan mengapa pemerintah bersikap lunak pada perusahaan ojek online..   https://tirto.id/eNqT  pic.twitter.com/dqKrL9e1St\n",
            "Tweet_id: 1253473981707010054 | Date: 2020-04-24 | Time: 00:01:00 | Tweet: Franz Wilhelm Junghuhn adalah orang Jerman yang berjasa mengembangbiakkan tanaman kina di Indonesia.  Junghuhn meninggal pada 24 April 1864. Pemandangan terakhirnya dari ranjang kematiannya adalah Gunung Tangkuban Parahu yang dicintainya. #MozaikTirto https://tirto.id/cvjv \n",
            "Tweet_id: 1253337836113166341 | Date: 2020-04-23 | Time: 15:00:00 | Tweet: Puasa Ramadan tahun ini sepertinya akan berbeda dengan tahun-tahun sebelumnya.   Tapi, jangan lupa untuk tetap sehat dan bugar dalam menjalaninya, yha~ https://tirto.id/eQpT \n",
            "Tweet_id: 1253326589758066698 | Date: 2020-04-23 | Time: 14:15:19 | Tweet: Revisi:   Kebijakan ini berlaku mulai Jumat, 24 April 2020 sampai dengan 1 Juni 2020.\n",
            "Tweet_id: 1253325251917705220 | Date: 2020-04-23 | Time: 14:10:00 | Tweet: Ketua DPR RI Puan Maharani meminta Badan Legislasi DPR RI menunda pembahasan klaster ketenagakerjaan pada RUU Cipta Kerja karena saat ini semua pihak sedang fokus pada penanganan Covid-19. https://tirto.id/eSPx \n",
            "Tweet_id: 1253324887554314247 | Date: 2020-04-23 | Time: 14:08:33 | Tweet: Kementerian Perhubungan resmi melarang penerbangan dalam dan luar negeri.   Kebijakan ini berlaku mulai Jumat, 24 Maret 2020 sampai dengan 1 Juni 2020. https://tirto.id/eSAR \n",
            "Tweet_id: 1253322737474387968 | Date: 2020-04-23 | Time: 14:00:00 | Tweet: Cara apa yang ditempuh sineas untuk menyelamatkan industri perfilman yang lumpuh karena pandemi flu Spanyol dan COVID-19?   Sistem studio dan platform digital jawabannya. 🎥  https://tirto.id/eNeF  pic.twitter.com/X2B7vr2xWM\n",
            "Tweet_id: 1253319884605239302 | Date: 2020-04-23 | Time: 13:48:40 | Tweet: Kementerian Perhubungan resmi melarang perjalanan kereta api jarak jauh dari dan ke Jabodetabek.   Kebijakan ini berlaku mulai 24 April 2020 sampai 31 Mei 2020. https://tirto.id/enCb \n",
            "Tweet_id: 1253315839677194242 | Date: 2020-04-23 | Time: 13:32:36 | Tweet: Menteri Luar Negeri Retno Marsudi mengatakan, pemerintah Indonesia ikut berpartisipasi dalam pencarian vaksin COVID-19.  Indonesia sudah melakukan pengembangan vaksin dan pengembangan laboratorium. https://tirto.id/eSxi \n",
            "Tweet_id: 1253311410106294274 | Date: 2020-04-23 | Time: 13:15:00 | Tweet: Kekurangan dokter sesungguhnya tidak hanya muncul tatkala pandemi COVID-19. Tidak seperti Kuba yang mengirim dokter-dokternya ke berbagai belahan dunia yang membutuhkan, banyak negara justru kekurangan dokter dan tenaga medis.   https://tirto.id/eMka  pic.twitter.com/fhwmvufwKB\n",
            "Tweet_id: 1253310204801716226 | Date: 2020-04-23 | Time: 13:10:12 | Tweet: Yang mahal di awal Ramadan: bawang merah, bawang putih, dan Gula.   Brb bikin anggaran belanja~ https://tirto.id/eRVt \n",
            "Tweet_id: 1253307640752377856 | Date: 2020-04-23 | Time: 13:00:01 | Tweet: Apa persamaan pengaruh flu Spanyol dan COVID-19 terhadap industri film?   Keduanya sama-sama mengubah wajah industri film. Yang harus diingat: Para sineas punya caranya sendiri untuk bertahan di tengah pandemi. https://tirto.id/eNeF \n",
            "Tweet_id: 1253303078847037443 | Date: 2020-04-23 | Time: 12:41:53 | Tweet: Koalisi Tolak Kriminalisasi dan Rekayasa Kasus akhirnya bisa menemui Ravio Patra di Polda Metro Jaya. https://tirto.id/eR4E \n",
            "Tweet_id: 1253301827371626501 | Date: 2020-04-23 | Time: 12:36:55 | Tweet: Hasil sidang Isbat menetapkan tanggal 1 Ramadan 1441 hijriyah akan dimulai Jumat (24/4/2020).  Selamat berpuasa untuk teman-teman yang menjalankan! https://tirto.id/eR3K \n",
            "Tweet_id: 1253300085938704384 | Date: 2020-04-23 | Time: 12:30:00 | Tweet: Pada 1930, delapan tahun sebelum Iqbal meninggal, ia diminta memimpin sesi tahunan Liga Muslim di Allahabad.   Dalam forum ini, ia pertama kali menyuarakan gagasan sebuah bangsa muslim yang terpisah dari India kolonial. #AlIlmuNuurun https://tirto.id/eQdp \n",
            "Tweet_id: 1253297341630541824 | Date: 2020-04-23 | Time: 12:19:06 | Tweet: Siap-siap besok! https://tirto.id/eRVb \n",
            "Tweet_id: 1253292540981202946 | Date: 2020-04-23 | Time: 12:00:01 | Tweet: Mulai Jumat (24/4/2020) besok, operasional seluruh keberangkatan dan kedatangan perjalanan Kereta Api Jarak Jauh dan KA Lokal yang jumlahnya mencapai 70 perjalanan akan dihentikan sementara. https://tirto.id/eQpU \n",
            "Tweet_id: 1253288356634456065 | Date: 2020-04-23 | Time: 11:43:23 | Tweet: Jelang pelarangan mudik, jumlah penumpang Terminal Pulo Gebang melonjak hingga 840 orang sehari.    Hhhhhmmmmmmm. https://tirto.id/eRVf \n",
            "Tweet_id: 1253284986876162049 | Date: 2020-04-23 | Time: 11:30:00 | Tweet: Tak ada Iqbal jika tak ada puisi. Puisi adalah Iqbal. Puisi adalah kendaraan untuknya berpikir. #AlIlmuNuurun  https://tirto.id/eQdp  pic.twitter.com/w20clR0M2z\n",
            "Tweet_id: 1253277439343702016 | Date: 2020-04-23 | Time: 11:00:00 | Tweet: Sebagaimana tercermin dalam penjelasan “Namun hak hidup manusia dibatasi dibatasi oleh hak hidup orang lainnya,” banyak hakim meyakini hak hidup itu bukan hak absolut.   Itu berarti perjalanan menuju penghapusan hukuman mati masih panjang. #Opini https://tirto.id/ePZC \n",
            "Tweet_id: 1253262339505180672 | Date: 2020-04-23 | Time: 10:00:00 | Tweet: Pengorbanan Syarif Kasim II untuk Republik amat besar. Namun pemerintah RI baru memberinya gelar Pahlawan Nasional pada 6 November 1998. Nama Sultan Syarif Kasim II diabadikan sebagai nama bandar udara internasional di Pekanbaru, Riau. #MozaikTirto  https://tirto.id/cB4p  pic.twitter.com/ImaAe0vAxZ\n",
            "Tweet_id: 1253261078475218945 | Date: 2020-04-23 | Time: 09:55:00 | Tweet: Direktur Eksekutif PMO Kartu Prakerja Denni Purbasari menampik tudingan yang meragukan kualitas konten pelatihan yang dinilai sama saja dengan yang tersedia di YouTube.  Menurutnya masyarakat bisa mengabaikan konten pelatihan yang kurang bermutu. https://tirto.id/eQoN \n",
            "Tweet_id: 1253258550408654848 | Date: 2020-04-23 | Time: 09:44:57 | Tweet: Tidak ada ganjil-genap untuk hari ini sampai 22 Mei 2020. Tapi tetap #dirumahaja, yuk. https://tirto.id/eRUx \n",
            "Tweet_id: 1253251012078391296 | Date: 2020-04-23 | Time: 09:15:00 | Tweet: Banyak cara yang bisa dilakukan untuk mengingat dan mensyukuri semua hal baik yang terjadi dalam hidup kita. Salah satu cara sederhana yang bisa dilakukan adalah dengan menuliskannya di gratitude diary. Ada yang sudah pernah mencoba buat?   https://tirto.id/eMjl  pic.twitter.com/1oUzZn9puZ\n",
            "Tweet_id: 1253249753825120257 | Date: 2020-04-23 | Time: 09:10:00 | Tweet: Kasus pasien positif COVID-19 dIndonesia menjadi 7.775 per 23 April 2020: .960 pasien dinyatakan sembuh dan 647 orang meninggal. https://tirto.id/eRer \n",
            "Tweet_id: 1253249588548366336 | Date: 2020-04-23 | Time: 09:09:20 | Tweet: Pengakuan Ravio, kata Karopenmas Mabes Polri Brigjen Pol Argo Yuwono, akun WhatsApp miliknya diretas.   Maka pihak Laboratorium Forensik Polri menelusuri jejak digital perpesanan tersebut. \"Hasilnya masih menunggu, apakah di-hack atau tidak,\" ujarnya. https://tirto.id/eRxQ \n",
            "Tweet_id: 1253247238928601089 | Date: 2020-04-23 | Time: 09:00:00 | Tweet: Sebagai pakar geospasial dengan gelar akademik di bidang geoinformasi dan geomatika yang telah mengurus data publik di BNPB sejak 2012, Agus Wibowo mestinya paham bahwa statistika bukan perkara yang bisa diotak-atik sesuka hati begitu saja. #Opini https://tirto.id/eP1k \n",
            "Tweet_id: 1253245878262878209 | Date: 2020-04-23 | Time: 08:54:36 | Tweet: Pengumuman resmi: Dilarang mudik.   Yang terjadi: Macet di pintu tol Cikampek Utama. 🚚🚛🚕🚗🚙 https://tirto.id/eRC6 \n",
            "Tweet_id: 1253244559477235713 | Date: 2020-04-23 | Time: 08:49:21 | Tweet: Bukan penutupan, hanya pemeriksaan ketat saja. https://tirto.id/eRrV \n",
            "Tweet_id: 1253241368123551745 | Date: 2020-04-23 | Time: 08:36:40 | Tweet: Presiden Joko Widodo mengeluh harga bahan pokok masih tinggi di tengah pandemi COVID-19. Ia bilang, kondisi di lapangan kerap berbeda dengan yang dilaporkan para menterinya.  Kok begitu? https://tirto.id/ero3 \n",
            "Tweet_id: 1253238670225633286 | Date: 2020-04-23 | Time: 08:25:57 | Tweet: \"Saya membenarkan. Tadi malam tim dari Polda Metro Jaya telah mengamankan seseorang berinisial RPA [Ravio Patra]. Penangkapan di daerah Menteng,\" ucap Kabid Humas Polda Metro Jaya, Kombes Yusri Yunus. https://tirto.id/eQZD \n",
            "Tweet_id: 1253232140785012736 | Date: 2020-04-23 | Time: 08:00:00 | Tweet: Kombinasi sarang burung walet dan kurma punya beragam manfaat buat tubuh. Nutrisi yang dikandung berfungsi menggantikan energi tubuh yang hilang selama berpuasa. #ads  https://tirto.id/eQeB  pic.twitter.com/siMM0Laz6s\n",
            "Tweet_id: 1253230879394222083 | Date: 2020-04-23 | Time: 07:55:00 | Tweet: Keseharian Ravio antara lain adalah melakukan riset pustaka dan menghimpun informasi kredibel dari organisasi lain.   Salah satu temuan yang ia teliti sepanjang 2016 hingga 2017, adalah buruknya tata kelola data di berbagai tingkatan pemerintah Indonesia. https://tirto.id/eQqo \n",
            "Tweet_id: 1253229621157392384 | Date: 2020-04-23 | Time: 07:50:00 | Tweet: Penangkapan Ravio telah memicu gelombang simpati di media sosial Twitter.  Tagar #bebaskanravio telah dicuit lebih dari 9.000 kali dan menempati nomor dua trending topik Twitter Indonesia. https://tirto.id/eQtr \n",
            "Tweet_id: 1253227233453371397 | Date: 2020-04-23 | Time: 07:40:30 | Tweet: Direktur Eksekutif SAFEnet, Damar Juniarto yang termasuk dalam koalisi, menduga penangkapan Ravio berkaitan dengan gencarnya kritik yang dilayangkan kepada pemerintah. https://tirto.id/eQqf \n",
            "Tweet_id: 1253224588663615494 | Date: 2020-04-23 | Time: 07:30:00 | Tweet: Dr. Sri Nurdiati dari IPB telah membantah bahwa informasi terkait antibodi yang banyak beredar di WhatsApp berasal dari dirinya. Terlepas dari pernyataan Sri, apakah klaim-klaim dalam informasi itu valid? #PeriksaFakta https://tirto.id/ePW9 \n",
            "Tweet_id: 1253224448582225920 | Date: 2020-04-23 | Time: 07:29:26 | Tweet: Dr. Arief Budiman, aktivis politik, intelektual publik, penulis dan sosiolog, meninggal dunia di rumah sakit dekat kediamannya di Salatiga, Jawa Tengah, pada Kamis hari ini, 23 April 2020.  Selamat jalan. #Obituari https://tirto.id/eQHz \n",
            "Tweet_id: 1253217040325894147 | Date: 2020-04-23 | Time: 07:00:00 | Tweet: Dear pemerintah, https://tirto.id/eQfj \n",
            "Tweet_id: 1253209489253322753 | Date: 2020-04-23 | Time: 06:30:00 | Tweet: Dalam beberapa minggu terakhir, situasi di Guayaquil sama sekali tak pernah terbayangkan oleh para penduduknya. Ratusan jenazah tergeletak di jalan, diabaikan selama berhari-hari lantaran diduga terjangkit COVID-19. https://tirto.id/eQdS \n",
            "Tweet_id: 1253201940554620928 | Date: 2020-04-23 | Time: 06:00:00 | Tweet: Bantuan pemerintah kepada industri cenderung lambat. Stimulus yang sudah dijanjikan hingga saat ini belum turun padahal maskapai di dalam negeri sudah kepayahan. https://tirto.id/et6J \n",
            "Tweet_id: 1253194388999516160 | Date: 2020-04-23 | Time: 05:30:00 | Tweet: Para petugas medis berguguran karena COVID-19. Kesalahan ada pada Menkes Terawan karena tak mampu menyediakan fasilitas yang memadai. https://tirto.id/eQdZ \n",
            "Tweet_id: 1253186840804290560 | Date: 2020-04-23 | Time: 05:00:00 | Tweet: Vitamin D bisa didapatkan dari sinar matahari pagi dan mengonsumsi minyak ikan. Fungsinya sering dikaitkan dengan kesehatan tulang dan memperkuat sistem imun. Nah, sudah cukupkah asupan vitamin D di tubuh kamu? #LetsCheckUp #ads  http://tirto.id/ePZN  pic.twitter.com/qf3hPBg0Lx\n",
            "Tweet_id: 1253184516354703360 | Date: 2020-04-23 | Time: 04:50:46 | Tweet: Peneliti kebijakan publik Ravio Patra diretas WhatsApp-nya dan kemudian dia dikabarkan ditangkap polisi. https://tirto.id/eQoR \n",
            "Tweet_id: 1253171741792391168 | Date: 2020-04-23 | Time: 04:00:00 | Tweet: Sultan Syarif Kasim II menyerahkan mahkota, istana, dan hampir seluruh kekayaan Kesultanan Siak Sri Inderapura kepada pemerintah RI. Siapakah sebenarnya sultan yang murah hati dan berkomitmen penuh terhadap Republik itu? #MozaikTirto  https://tirto.id/cB4p  pic.twitter.com/3GRomITD0P\n",
            "Tweet_id: 1253156640968396802 | Date: 2020-04-23 | Time: 03:00:00 | Tweet: Kebutuhan air tiap orang dipengaruhi oleh beragam faktor dan tak mesti 8 gelas sehari. Tubuh memiliki \"alarm\" bernama haus ketika ia membutuhkan air. Dan, ini bisa mempertahankan level air pada tubuh di kondisi ideal. #ads http://tirto.id/ePKa \n",
            "Tweet_id: 1253152865515737088 | Date: 2020-04-23 | Time: 02:45:00 | Tweet: Selamat pagi! Sudah siap berjemur dan mengambil stok vitamin D sebanyak-banyaknya hari ini? ⛅  https://tirto.id/eH5h  pic.twitter.com/V28OvvAGQs\n",
            "Tweet_id: 1253141542828720128 | Date: 2020-04-23 | Time: 02:00:00 | Tweet: Pemerintah semestinya langsung menindaklanjuti putusan MA soal pembatalan iuran BPJS Kesehatan sejak awal, bukan baru diumumkan April. https://tirto.id/eQeR \n",
            "Tweet_id: 1253126443535495169 | Date: 2020-04-23 | Time: 01:00:00 | Tweet: Kerugian ekonomi dan transparansi adalah dua isu yang mendorong gugatan negara-negara dunia terhadap Cina terkait COVID-19. https://tirto.id/eQeS \n",
            "Tweet_id: 1253111342606630912 | Date: 2020-04-23 | Time: 00:00:00 | Tweet: Pengorbanan Syarif Kasim II untuk Republik amat besar. Namun, ia tak pernah menempati posisi penting di pemerintahan. Pada 23 April 1968, tepat hari ini 52 tahun lalu, Sultan Siak ke-12 itu tutup usia. #MozaikTirto https://tirto.id/cB4p \n",
            "Tweet_id: 1252967709597290498 | Date: 2020-04-22 | Time: 14:29:15 | Tweet: Anies Baswedan mengaku jajarannya akan memperbaiki data bantuan sosial selama PSBB setelah ada warga yang tak berhak masuk pendataan. http://tirto.id/eQe2 \n",
            "Tweet_id: 1252960351404072961 | Date: 2020-04-22 | Time: 14:00:01 | Tweet: Kartu Prakerja tergolong unik. Ia sudah disebut-sebut Jokowi dalam kampanye Pilpres 2019. Kini, program ini diselimuti berbagai kontroversi.   http://tirto.id/eQbX  pic.twitter.com/KKiKz5Di1r\n",
            "Tweet_id: 1252949022332973056 | Date: 2020-04-22 | Time: 13:15:00 | Tweet: Untuk menangani kasus KDRT yang disebabkan keadaan pandemi ini, pemerintah perlu memiliki panduan bagaimana mengintegrasikan gender dalam situasi bencana.    https://tirto.id/eNpk  pic.twitter.com/TXoTD41oEa\n",
            "Tweet_id: 1252945251855196160 | Date: 2020-04-22 | Time: 13:00:01 | Tweet: Apple dan Google akan bekerjasama untuk membangun aplikasi tracking virus Corona. Ada yang khawatir soal privasi? 👀 http://tirto.id/eNWJ \n",
            "Tweet_id: 1252945007490641925 | Date: 2020-04-22 | Time: 12:59:03 | Tweet: PT KAI membatalkan seluruh perjalanan Kereta Api Jarak Jauh dari dan menuju Jakarta dan Bandung mulai 24 April 2020. http://tirto.id/eQeQ \n",
            "Tweet_id: 1252944603348516865 | Date: 2020-04-22 | Time: 12:57:26 | Tweet: Program Kartu Prakerja jadi tambang uang instan bagi delapan platform digital yang ditunjuk pemerintah. Karena mereka tidak hanya menjadi platform, tapi juga sekaligus menjadi lembaga pelatihan. http://tirto.id/eQbH \n",
            "Tweet_id: 1252937016628572167 | Date: 2020-04-22 | Time: 12:27:17 | Tweet: Pemrprov DKI bersama Polda Metro Jaya dan Kodam akan meningkatkan kedisiplinan kepada perusahaan-perusahaan yang masih beroperasi, maupun masyarakat yang berkerumunan. http://tirto.id/eQeH \n",
            "Tweet_id: 1252917321758175237 | Date: 2020-04-22 | Time: 11:09:02 | Tweet: Beberapa serikat buruh masih berniat ikut May Day di tengah pandemi COVID-19 seperti sekarang. http://tirto.id/eQej \n",
            "Tweet_id: 1252915050710532096 | Date: 2020-04-22 | Time: 11:00:00 | Tweet: Kartu Prakerja merekrut 8 provider sebagai mitra penyedia pelatihan dengan bujet Rp1 juta per orang untuk 5,6 juta orang. Empat di antara provider adalah Perusahaan Modal Asing. http://tirto.id/eQbX \n",
            "Tweet_id: 1252900200802377728 | Date: 2020-04-22 | Time: 10:01:00 | Tweet: Meskipun perjuangannya boleh dibilang berada pada level yang lebih masif, Maria Walanda Maramis mengakui bahwa Kartini adalah sosok yang sangat memberinya inspirasi. #MozaikTirto  https://tirto.id/cnb9  pic.twitter.com/7knOvYcdOI\n",
            "Tweet_id: 1252892162234085378 | Date: 2020-04-22 | Time: 09:29:03 | Tweet: Fraksi Partai Demokrat DPR RI menarik anggotanya dari Panja pembahasan RUU Cipta Kerja Baleg DPR RI. Fraksi ini memilih untuk tidak ikut membahas RUU yang tidak terkait dengan pandemi COVID-19. http://tirto.id/eQcS \n",
            "Tweet_id: 1252891473613172738 | Date: 2020-04-22 | Time: 09:26:19 | Tweet: Direktur RSUD Kota Bogor dr Ilham Chaidir menyampaikan klarifikasi bahwa hasil rapid test terhadap 51 tenaga medis statusnya adalah reaktif dan belum tentu positif COVID-19. http://tirto.id/eQdm \n",
            "Tweet_id: 1252888624305106944 | Date: 2020-04-22 | Time: 09:15:00 | Tweet: Kini, novel detektif Indonesia memang agak sulit meraih kejayaan seperti pada dekade 1980-an silam. Tetapi, sebagaimana pembacanya yang tetap ada, beberapa penulis juga mulai berkarya dalam genre ini. Ada rekomendasi?   https://tirto.id/cQgz  pic.twitter.com/DnuHqbIAzJ\n",
            "Tweet_id: 1252887813642579968 | Date: 2020-04-22 | Time: 09:11:46 | Tweet: Harga minyak mentah dunia terus merosot menyusul anjloknya permintaan akibat pandemi COVID-19. Minyak Brent bahkan terjun hingga ke titik terendahnya sejak tahun 1999. http://tirto.id/eQcY \n",
            "Tweet_id: 1252885326856548355 | Date: 2020-04-22 | Time: 09:01:54 | Tweet: Akses jalan Tol Layang Jakarta-Cikampek akan ditutup terkait dengan larangan mudik. Penutupan akan dimulai Jumat (24/4/2020) dini hari. http://tirto.id/eQcj \n",
            "Tweet_id: 1252885051093643264 | Date: 2020-04-22 | Time: 09:00:48 | Tweet: \"Kemungkinan [pemeriksaan terhadap pengguna KRL] kita akan makin ketat, jadi akan kita minta surat kesehatan dia dan juga di mana dia bekerja,\" kata Menteri Perhubungan Ad Interim Luhut Binsar Pandjaitan. http://tirto.id/erpj \n",
            "Tweet_id: 1252884849624481798 | Date: 2020-04-22 | Time: 09:00:00 | Tweet: Sebagai kekuatan besar di dunia teknologi, Apple dan Google ingin melangkah lebih jauh untuk memperlambat laju penyebaran Corona. Mereka kini bekerjasama untuk membangun aplikasi pelacakan COVID-19.   http://tirto.id/eNWJ  pic.twitter.com/qOfUUhNKHC\n",
            "Tweet_id: 1252882653566521344 | Date: 2020-04-22 | Time: 08:51:16 | Tweet: Pasien positif virus Corona atau COVID-19 mencapai 7.418 orang per 22 April 2020: 913 orang sembuh dan 635 meninggal. http://tirto.id/eQc1 \n",
            "Tweet_id: 1252879504713740288 | Date: 2020-04-22 | Time: 08:38:45 | Tweet: Ketika tak ada bantuan pemerintah, tabungan menipis, bantuan sanak saudara atau tetangga tak bisa diharapkan, maka menggadai barang adalah salah satu pilihan paling mudah demi bertahan hidup di tengah pandemi Corona. http://tirto.id/eQcz \n",
            "Tweet_id: 1252870023179190278 | Date: 2020-04-22 | Time: 08:01:05 | Tweet: Penerapan PSBB yang dilakukan pemerintah selama ini dinilai tidak efektif.   \"Tidak ada gunanya melakukan PSBB tanpa penanganan yang serius dan deteksi dini COVID-19.\" http://tirto.id/eQbf \n",
            "Tweet_id: 1252854902318981120 | Date: 2020-04-22 | Time: 07:01:00 | Tweet: Langkah-langkah yang dilakukan Spanyol, Perancis, dan Inggris seharusnya bisa dilakukan negara lain untuk mencegah pemecatan selama pandemi COVID-19. Indonesia? 🤔  https://tirto.id/eNWg  pic.twitter.com/sAcSkVbRaD\n",
            "Tweet_id: 1252849967988797443 | Date: 2020-04-22 | Time: 06:41:23 | Tweet: Polresta Sidoarjo bakal menembak di tempat pelaku kejahatan jalanan saat diberlakukan pembatasan sosial berskala besar (PSBB) dalam rangka mengantisipasi penyebaran virus Corona atau COVID-19. https://tirto.id/eQck \n",
            "Tweet_id: 1252839802866528256 | Date: 2020-04-22 | Time: 06:01:00 | Tweet: Bagi Maria Walanda Maramis, perempuan harus memperoleh pendidikan yang layak dan baik, bahkan kalau perlu setinggi mungkin meskipun tetap menghormati adat dan kebiasaan. #MozaikTirto  https://tirto.id/cnb9  pic.twitter.com/EjlxNHtHYa\n",
            "Tweet_id: 1252832252800782336 | Date: 2020-04-22 | Time: 05:31:00 | Tweet: #HariBumi atau #EarthDay diperingati setiap tanggal 22 April. Bagaimana sejarahnya? https://tirto.id/eQba \n",
            "Tweet_id: 1252825178716827651 | Date: 2020-04-22 | Time: 05:02:53 | Tweet: Vitamin D bisa didapatkan dari sinar matahari pagi dan mengonsumsi minyak ikan. Fungsinya sering dikaitkan dengan kesehatan tulang dan memperkuat sistem imun. Nah, sudah cukupkah asupan vitamin D di tubuh kamu? #LetsCheckUp #ads  https://tirto.id/ePZN  pic.twitter.com/PTWIKshOti\n",
            "Tweet_id: 1252820928192319501 | Date: 2020-04-22 | Time: 04:46:00 | Tweet: \"Di awal minggu pertama COVID. Kami sudah mengatakan untuk [pemerintah] transparansi soal keterbukaan pasien. Bukan hanya untuk tenaga kesehatan tapi semua. Kami melihat ada kepentingan yang lebih besar, ketimbang menjaga kerahasiaan.\" https://tirto.id/eP1d \n",
            "Tweet_id: 1252817153365102592 | Date: 2020-04-22 | Time: 04:31:00 | Tweet: Pemerintah dan DPR sepakat Pilkada 2020 digelar pada 9 Desember 2020 alias hanya molor dua bulan 16 hari dari rencana awal, 23 September 2020.  Namun, keputusan ini dinilai sebagai misi mustahil. https://tirto.id/ePYp \n",
            "Tweet_id: 1252809603647242240 | Date: 2020-04-22 | Time: 04:01:00 | Tweet: Puluhan juta orang tak tenang dibayangi PHK—jalan terakhir yang bisa diambil perusahaan. Pertanyaannya, sampai kapan perusahaan bisa bertahan? https://tirto.id/eNWg \n",
            "Tweet_id: 1252802053866389504 | Date: 2020-04-22 | Time: 03:31:00 | Tweet: Di tengah kecamuk pandemi COVID-19, pemerintah pusat melempar wacana untuk kembali membuka pintu pariwisata bagi turis asing.   Optimisme tersebut dinilai terlalu berlebihan dan sangat mungkin meleset. https://tirto.id/euvk \n",
            "Tweet_id: 1252794253203451905 | Date: 2020-04-22 | Time: 03:00:00 | Tweet: Kebutuhan air tiap orang dipengaruhi oleh beragam faktor dan tak mesti 8 gelas sehari. Tubuh memiliki \"alarm\" bernama haus ketika ia membutuhkan air. Dan, ini bisa mempertahankan level air pada tubuh di kondisi ideal. #ads  http://tirto.id/ePKa  pic.twitter.com/OjfMILrgNI\n",
            "Tweet_id: 1252790729220513792 | Date: 2020-04-22 | Time: 02:46:00 | Tweet: Banyak pihak menganggap Kartu Prakerja bukanlah program yang tepat untuk dijadikan jaring pengaman sosial, apalagi pada saat pandemi seperti sekarang. Tapi toh program ini jalan terus. https://tirto.id/ePZa \n",
            "Tweet_id: 1252779405098848256 | Date: 2020-04-22 | Time: 02:01:00 | Tweet: Pelarangan mudik dikeluarkan pada 21 April, hanya berselang kurang lebih sebulan sebelum Idul Fitri. Sedangkan kasus COVID-19 telah ada di Indonesia secara resmi 2 Maret.   Efektifkah? https://tirto.id/ePY9 \n",
            "Tweet_id: 1252764305180655616 | Date: 2020-04-22 | Time: 01:01:00 | Tweet: Maria Walanda Maramis hidup sezaman dengan Kartini, tetapi kiprahnya lebih panjang dan masif. Namanya senantiasa harum bagi masyarakat Minahasa. Pada 22 April 1924, tepat hari ini 96 tahun lalu, Maria meninggal dunia. #MozaikTirto https://tirto.id/cnb9 \n",
            "Tweet_id: 1252597961382670337 | Date: 2020-04-21 | Time: 14:00:00 | Tweet: Lewat kumiai, secara paksa Jepang menghimpun beras sebanyak-banyaknya dari rakyat. Pemerasan terhadap rakyat yang menyebabkan penderitaan inilah yang menyebabkan beberapa anggota PETA bertindak seperti yang terjadi di Banten, Indramayu, dan Banyuwangi.   https://tirto.id/eNqQ  pic.twitter.com/GZtDQvfPH5\n",
            "Tweet_id: 1252586634530480128 | Date: 2020-04-21 | Time: 13:15:00 | Tweet: Jejak digital disebut “merekam preferensi, harapan, kekhawatiran, hingga ketakutan” tiap pengguna internet. Tak hanya dipergunakan untuk menyampaikan \"iklan\" yang tepat untukmu, ia bisa sangat memusingkan tatkala hilang atau dicuri. ⚠️  https://tirto.id/cN2D  pic.twitter.com/ksWBmrTQz7\n",
            "Tweet_id: 1252585142079549446 | Date: 2020-04-21 | Time: 13:09:04 | Tweet: Polda DIY mengklaim kedatangan mereka ke dapur darurat warga bukan untuk pembubaran melainkan pendataan rutin. 👀 https://tirto.id/ePZr \n",
            "Tweet_id: 1252583091790581761 | Date: 2020-04-21 | Time: 13:00:55 | Tweet: \"Seperti sudah dijelaskan oleh Menko Perekonomian bahwa proses verifikasi mitra Prakerja sudah berjalan sesuai aturan yang berlaku, dan tidak ada keterlibatan yang memunculkan konflik kepentingan dalam hal ini,\" kata Pramono Anung via rilis. https://tirto.id/ePZm \n",
            "Tweet_id: 1252569018587844609 | Date: 2020-04-21 | Time: 12:05:00 | Tweet: Pengunduran diri Belva terkait Program Kartu Prakerja. Status Belva sebagai stafsus sekaligus CEO Ruangguru, salah satu startup yang ditunjuk pemerintah sebagai mitra program itu, disorot banyak pihak, terutama terkait konflik kepentingan. https://tirto.id/ePZh \n",
            "Tweet_id: 1252567763836710921 | Date: 2020-04-21 | Time: 12:00:01 | Tweet: “Petani hanya mempunyai hak untuk menggarap sawah, namun tidak mempunyai hak untuk memungut dan menikmati hasil kerjanya. Kita banyak beras tapi tidak bisa makan beras, yang makan beras mereka (Jepang). Rakyat kecil [hanya] makan gaplek atau tiwul.\" https://tirto.id/eNqQ \n",
            "Tweet_id: 1252564373333131266 | Date: 2020-04-21 | Time: 11:46:32 | Tweet: Jika sesuatu terjadi pada Kim, pasti akan timbul dinamika pada kondisi dalam negeri Korea Utara. https://tirto.id/ePZc \n",
            "Tweet_id: 1252560211057016835 | Date: 2020-04-21 | Time: 11:30:00 | Tweet: Pernyataan KPK sekaligus merespons keraguan ICW terhadap potensi konflik kepentingan, khususnya kasus korupsi yang terkait Polri nanti. https://tirto.id/ePYX \n",
            "Tweet_id: 1252552661531934720 | Date: 2020-04-21 | Time: 11:00:00 | Tweet: Gagasan nasionalisme Kartini tidak hanya dirayakan kaum pergerakan di Belanda, tapi juga di tanah air.   Di Jawa, ide pembentukan kelompok diskusi Kartini lahir setahun setelah surat-suratnya diterbitkan di tanah Belanda. #MozaikTirto  https://tirto.id/ejuN  pic.twitter.com/ufPc2av3lD\n",
            "Tweet_id: 1252545649683267585 | Date: 2020-04-21 | Time: 10:32:08 | Tweet: Belum jelas siapa yang memulai serangan di kawasan yang memang menjadi zona merah pertempuran Tentara Myanmar dengan Tentara Arakan tersebut. https://tirto.id/ePYU \n",
            "Tweet_id: 1252537565418156032 | Date: 2020-04-21 | Time: 10:00:01 | Tweet: Agar hal serupa tidak terulang: pemerintah perlu menjamin semua orang bebas beribadah. https://tirto.id/ePXM \n",
            "Tweet_id: 1252527791670583296 | Date: 2020-04-21 | Time: 09:21:11 | Tweet: Kasus positif COVID-19 di Indonesia per hari ini bertambah 375 sehingga menjadi 7.135 kasus. Kasus meninggal bertambah 26 menjadi total 616 orang. Kasus sembuh bertambah 95 sehingga total menjadi 842 orang. https://tirto.id/ePX2 \n",
            "Tweet_id: 1252526236422864897 | Date: 2020-04-21 | Time: 09:15:00 | Tweet: Para pedagang kopi starling mengayuh sepeda di ibu kota yang memberi fantasi kemakmuran dan harapan untuk hidup yang lebih layak. Mereka menghadirkan secangkir kopi murah meriah sebagai kawan tuk penatnya waktu istirahat dan jam pulang kantormu.    https://tirto.id/eBpm  pic.twitter.com/uPkxTo4X7W\n",
            "Tweet_id: 1252519014808432640 | Date: 2020-04-21 | Time: 08:46:18 | Tweet: r/conspiracy https://tirto.id/ePXN \n",
            "Tweet_id: 1252516174446735361 | Date: 2020-04-21 | Time: 08:35:01 | Tweet: Kelebihan iuran yang telah dibayarkan pada bulan April 2020 akan diperhitungkan pada pembayaran iuran bulan selanjutnya. https://tirto.id/ePXP \n",
            "Tweet_id: 1252515678579388418 | Date: 2020-04-21 | Time: 08:33:03 | Tweet: Hal ini menurut Luhut, untuk mempermudah masyarakat yang tetap bekerja khususnya tenaga kesehatan hingga petugas kebersihan rumah sakit. https://tirto.id/ePXK \n",
            "Tweet_id: 1252515075899842562 | Date: 2020-04-21 | Time: 08:30:39 | Tweet: Situasi sosial yang serba takut dan menimbulkan stigma yang harus diubah. Tak seharusnya ada penolakan baik jenazah atau pasien positif COVID-19 yang hendak mengisolasi diri di rumah. https://tirto.id/ePV6 \n",
            "Tweet_id: 1252513580626309122 | Date: 2020-04-21 | Time: 08:24:42 | Tweet: Chatib menyatakan saat perusahaan kesulitan membayar kredit, bank mau tak mau harus menyetop pinjamannya. Saat pinjaman berhenti, maka perusahaan harus memikirkan cara untuk bertahan.    https://tirto.id/ePXt \n",
            "Tweet_id: 1252512740125446145 | Date: 2020-04-21 | Time: 08:21:22 | Tweet: \"Seluruh sekolah tersebut akan tetap dilakukan diverifikasi oleh dinas kesehatan untuk memastikan sekolah dapat dipergunakan sesuai dengan protokol kesehatan yang ada.\" https://tirto.id/ePXB \n",
            "Tweet_id: 1252492262442807296 | Date: 2020-04-21 | Time: 07:00:00 | Tweet: Selamat berbelanja. Jangan lupa untuk tetap sehat dan belanja secukupnya saja, ya! 😏 https://tirto.id/ePJb \n",
            "Tweet_id: 1252484780425244674 | Date: 2020-04-21 | Time: 06:30:16 | Tweet: \"Ini petani enggak dapat untung, harga beras naik, masyarakat dirugikan. Ini yang untung siapa, dicari,\" tegas Jokowi. https://tirto.id/ePXv \n",
            "Tweet_id: 1252483284749004802 | Date: 2020-04-21 | Time: 06:24:19 | Tweet: Angkutan umum dan kendaraan pribadi termasuk sepeda motor dilarang melintas zona merah.   Kemenhub juga telah menyiapkan sanksi bagi mereka yang melanggar. https://tirto.id/ePW7 \n",
            "Tweet_id: 1252477163921723402 | Date: 2020-04-21 | Time: 06:00:00 | Tweet: Perjuangan Kartini dikerdilkan karena banyak yang mengira ia hanya memperjuangkan hak kaum perempuan.   Selain itu, nasionalisme yang digagasnya pun masih sangat konseptual. #MozaikTirto  https://tirto.id/ejuN  pic.twitter.com/RKgjHqniBc\n",
            "Tweet_id: 1252473055495909376 | Date: 2020-04-21 | Time: 05:43:40 | Tweet: Satu pasien positif COVID-19 di Belitung dinyatakan sembuh. Hingga kini, total pasien positif menjadi 3 orang. https://tirto.id/ePW4 \n",
            "Tweet_id: 1252471147217645568 | Date: 2020-04-21 | Time: 05:36:05 | Tweet: Presiden Joko Widodo akhirnya melarang seluruh masyarakat Indonesia mudik ke kampung halaman demi mencegah penyebaran virus COVID-19.  Tahun ini kita nggak mudik, ya. https://tirto.id/ePWU \n",
            "Tweet_id: 1252462064934588418 | Date: 2020-04-21 | Time: 05:00:00 | Tweet: Kebutuhan air tiap orang dipengaruhi oleh beragam faktor dan tak mesti 8 gelas sehari. Tubuh memiliki \"alarm\" bernama haus ketika ia membutuhkan air. Dan, ini bisa mempertahankan level air pada tubuh di kondisi ideal. #ads  https://tirto.id/ePKa  pic.twitter.com/4F3OCCLhtt\n",
            "Tweet_id: 1252457722332590080 | Date: 2020-04-21 | Time: 04:42:45 | Tweet: Sudah optimal? https://tirto.id/euvl \n",
            "Tweet_id: 1252446964618153992 | Date: 2020-04-21 | Time: 04:00:00 | Tweet: Menurut Indro Cahyono, di tengah pandemi COVID-19 ini telah terjadi Hyper Reality atau kenyataan semu yang berlebihan.   Memangnya iya? Mari #PeriksaFakta dulu. https://tirto.id/eNWi \n",
            "Tweet_id: 1252444447436136449 | Date: 2020-04-21 | Time: 03:50:00 | Tweet: Direktur Utama PT Berdikari Harry Warganegara mengusulkan agar daging ayam masuk ke dalam paket bantuan sosial pemerintah.  Menurutnya, langkah ini diperlukan untuk mengangkat harga ayam yang merosot hingga Rp12 ribu per kilogram. https://tirto.id/ePVY \n",
            "Tweet_id: 1252434380980658176 | Date: 2020-04-21 | Time: 03:10:00 | Tweet: Pemerintah Indonesia bekerja sama dengan pemerintah Korea Selatan untuk menangani pandemi Covid-19.   Bentuk kerja sama tersebut adalah penyediaan alat tes PCR dan APD. https://tirto.id/ePVT \n",
            "Tweet_id: 1252431865803309056 | Date: 2020-04-21 | Time: 03:00:00 | Tweet: Supaya baik-baik saja, kini dan nanti. Hehehehe. 😊 https://tirto.id/ePKq \n",
            "Tweet_id: 1252427283979067393 | Date: 2020-04-21 | Time: 02:41:48 | Tweet: \"Sudah waktunya menempatkan konflik bersenjata di akhir dan fokus bersama berjuang demi kehidupan bersama,\" - Sekretaris Jenderal PBB Antonio Guterres.   Sayangnya, seruan tersebut tidak menggema di Papua. https://tirto.id/ePKc \n",
            "Tweet_id: 1252416767005204480 | Date: 2020-04-21 | Time: 02:00:00 | Tweet: Masih banyak pengendara yang belum mematuhi aturan PSBB di DKI Jakarta yang berlaku sejak 10 April 2020 lalu.  Jumlahnya? Ribuaan~ https://tirto.id/ePKQ \n",
            "Tweet_id: 1252409215232225280 | Date: 2020-04-21 | Time: 01:30:00 | Tweet: Menurut Koordinator Pusat BEM SI Remy Hastian, tuntutan memberikan bantuan pulsa bagi mahasiswa sangat masuk akal karena kampus sebetulnya berhemat saat PJJ.  Jadi, kapan subsidi pulsanya mulai dilakukan? Hehe. https://tirto.id/ePKj \n",
            "Tweet_id: 1252406557410619393 | Date: 2020-04-21 | Time: 01:19:26 | Tweet: Menurut epidemiolog Universitas Airlangga Surabaya, Laura Navika Yamani, standar global masa inkubasi coronavirus mendukung argumen penularan terjadi sebelum Maret lewat transmisi lokal. https://tirto.id/ePKP \n",
            "Tweet_id: 1252401668190351360 | Date: 2020-04-21 | Time: 01:00:00 | Tweet: Harga minyak mentah AS untuk pertama kalinya jatuh hingga di bawah 0 dolar per barel pada Senin (20/2/2020). Harga minyak secara mengejutkan mencapai minus 37,63 dolar per barel.  👀  https://tirto.id/ePVw \n",
            "Tweet_id: 1252386568574078977 | Date: 2020-04-21 | Time: 00:00:00 | Tweet: Tanggal 21 April 1965, tepat hari ini 55 tahun lalu, Hari Kartini pertama kali dirayakan.  Menurut Sitisoemandari Suroto, Kartini menduduki tempat khusus dalam Sejarah Indonesia Modern sebagai Ibu Nasionalisme. #MozaikTirto https://tirto.id/ejuN \n",
            "Tweet_id: 1252250922761310216 | Date: 2020-04-20 | Time: 15:01:00 | Tweet: -Jadwal rapat yang bikin lebih capek -Rapat yang nggak kelar-kelar, malah ngalor ngidul -Jaringan internet jelek  Ada lagi? https://tirto.id/eNqx \n"
          ],
          "name": "stdout"
        }
      ]
    },
    {
      "cell_type": "markdown",
      "metadata": {
        "id": "kQDFHAh2pnQa",
        "colab_type": "text"
      },
      "source": [
        "#Read Dataset"
      ]
    },
    {
      "cell_type": "code",
      "metadata": {
        "id": "kfZ3JWmXp3GL",
        "colab_type": "code",
        "colab": {}
      },
      "source": [
        "import pandas as pd"
      ],
      "execution_count": 0,
      "outputs": []
    },
    {
      "cell_type": "code",
      "metadata": {
        "id": "LeeKzMWHLMar",
        "colab_type": "code",
        "colab": {
          "base_uri": "https://localhost:8080/",
          "height": 484
        },
        "outputId": "34cd785d-bcb9-4280-eec7-382f407b5920"
      },
      "source": [
        "df_tirto = pd.read_csv('tirtoid.csv',sep=\";\",error_bad_lines=False)\n",
        "df_tirto.head()"
      ],
      "execution_count": 174,
      "outputs": [
        {
          "output_type": "execute_result",
          "data": {
            "text/html": [
              "<div>\n",
              "<style scoped>\n",
              "    .dataframe tbody tr th:only-of-type {\n",
              "        vertical-align: middle;\n",
              "    }\n",
              "\n",
              "    .dataframe tbody tr th {\n",
              "        vertical-align: top;\n",
              "    }\n",
              "\n",
              "    .dataframe thead th {\n",
              "        text-align: right;\n",
              "    }\n",
              "</style>\n",
              "<table border=\"1\" class=\"dataframe\">\n",
              "  <thead>\n",
              "    <tr style=\"text-align: right;\">\n",
              "      <th></th>\n",
              "      <th>id</th>\n",
              "      <th>conversation_id</th>\n",
              "      <th>created_at</th>\n",
              "      <th>date</th>\n",
              "      <th>time</th>\n",
              "      <th>timezone</th>\n",
              "      <th>user_id</th>\n",
              "      <th>username</th>\n",
              "      <th>name</th>\n",
              "      <th>place</th>\n",
              "      <th>tweet</th>\n",
              "      <th>category</th>\n",
              "      <th>mentions</th>\n",
              "      <th>urls</th>\n",
              "      <th>photos</th>\n",
              "      <th>replies_count</th>\n",
              "      <th>retweets_count</th>\n",
              "      <th>likes_count</th>\n",
              "      <th>hashtags</th>\n",
              "      <th>cashtags</th>\n",
              "      <th>link</th>\n",
              "      <th>retweet</th>\n",
              "      <th>quote_url</th>\n",
              "      <th>video</th>\n",
              "      <th>near</th>\n",
              "      <th>geo</th>\n",
              "      <th>source</th>\n",
              "      <th>user_rt_id</th>\n",
              "      <th>user_rt</th>\n",
              "      <th>retweet_id</th>\n",
              "      <th>reply_to</th>\n",
              "      <th>retweet_date</th>\n",
              "      <th>translate</th>\n",
              "      <th>trans_src</th>\n",
              "      <th>trans_dest</th>\n",
              "    </tr>\n",
              "  </thead>\n",
              "  <tbody>\n",
              "    <tr>\n",
              "      <th>0</th>\n",
              "      <td>1,25395E+18</td>\n",
              "      <td>1,25395E+18</td>\n",
              "      <td>1,5878E+12</td>\n",
              "      <td>25/04/2020</td>\n",
              "      <td>07:30:00</td>\n",
              "      <td>UTC</td>\n",
              "      <td>4187275698</td>\n",
              "      <td>tirtoid</td>\n",
              "      <td>tirtoid</td>\n",
              "      <td>NaN</td>\n",
              "      <td>Podcast dianggap bisa menghadirkan fleksibilit...</td>\n",
              "      <td>sos</td>\n",
              "      <td>[]</td>\n",
              "      <td>['http://tirto.id/eRVs']</td>\n",
              "      <td>['https://pbs.twimg.com/media/EWbPuR4U8AAkhN5....</td>\n",
              "      <td>0</td>\n",
              "      <td>4</td>\n",
              "      <td>13</td>\n",
              "      <td>['#ads']</td>\n",
              "      <td>[]</td>\n",
              "      <td>https://twitter.com/TirtoID/status/12539493636...</td>\n",
              "      <td>False</td>\n",
              "      <td>NaN</td>\n",
              "      <td>0</td>\n",
              "      <td>NaN</td>\n",
              "      <td>NaN</td>\n",
              "      <td>NaN</td>\n",
              "      <td>NaN</td>\n",
              "      <td>NaN</td>\n",
              "      <td>NaN</td>\n",
              "      <td>[{'user_id': '4187275698', 'username': 'TirtoI...</td>\n",
              "      <td>NaN</td>\n",
              "      <td>NaN</td>\n",
              "      <td>NaN</td>\n",
              "      <td>NaN</td>\n",
              "    </tr>\n",
              "    <tr>\n",
              "      <th>1</th>\n",
              "      <td>1,25394E+18</td>\n",
              "      <td>1,25394E+18</td>\n",
              "      <td>1,5878E+12</td>\n",
              "      <td>25/04/2020</td>\n",
              "      <td>07:11:24</td>\n",
              "      <td>UTC</td>\n",
              "      <td>4187275698</td>\n",
              "      <td>tirtoid</td>\n",
              "      <td>tirtoid</td>\n",
              "      <td>NaN</td>\n",
              "      <td>Menkopolhukam Mahfud MD menyampaikan rasa syuk...</td>\n",
              "      <td>pol</td>\n",
              "      <td>[]</td>\n",
              "      <td>['http://tirto.id/e2a3']</td>\n",
              "      <td>[]</td>\n",
              "      <td>24</td>\n",
              "      <td>28</td>\n",
              "      <td>81</td>\n",
              "      <td>[]</td>\n",
              "      <td>[]</td>\n",
              "      <td>https://twitter.com/TirtoID/status/12539446853...</td>\n",
              "      <td>False</td>\n",
              "      <td>NaN</td>\n",
              "      <td>0</td>\n",
              "      <td>NaN</td>\n",
              "      <td>NaN</td>\n",
              "      <td>NaN</td>\n",
              "      <td>NaN</td>\n",
              "      <td>NaN</td>\n",
              "      <td>NaN</td>\n",
              "      <td>[{'user_id': '4187275698', 'username': 'TirtoI...</td>\n",
              "      <td>NaN</td>\n",
              "      <td>NaN</td>\n",
              "      <td>NaN</td>\n",
              "      <td>NaN</td>\n",
              "    </tr>\n",
              "    <tr>\n",
              "      <th>2</th>\n",
              "      <td>1,25394E+18</td>\n",
              "      <td>1,25394E+18</td>\n",
              "      <td>1,5878E+12</td>\n",
              "      <td>25/04/2020</td>\n",
              "      <td>07:00:00</td>\n",
              "      <td>UTC</td>\n",
              "      <td>4187275698</td>\n",
              "      <td>tirtoid</td>\n",
              "      <td>tirtoid</td>\n",
              "      <td>NaN</td>\n",
              "      <td>Ajaran-ajaran kuno tentang kebijaksanaan kemba...</td>\n",
              "      <td>sos</td>\n",
              "      <td>[]</td>\n",
              "      <td>['http://tirto.id/eKqC']</td>\n",
              "      <td>['https://pbs.twimg.com/media/EWbPa6LUMAAGhcb....</td>\n",
              "      <td>6</td>\n",
              "      <td>31</td>\n",
              "      <td>95</td>\n",
              "      <td>[]</td>\n",
              "      <td>[]</td>\n",
              "      <td>https://twitter.com/TirtoID/status/12539418157...</td>\n",
              "      <td>False</td>\n",
              "      <td>NaN</td>\n",
              "      <td>0</td>\n",
              "      <td>NaN</td>\n",
              "      <td>NaN</td>\n",
              "      <td>NaN</td>\n",
              "      <td>NaN</td>\n",
              "      <td>NaN</td>\n",
              "      <td>NaN</td>\n",
              "      <td>[{'user_id': '4187275698', 'username': 'TirtoI...</td>\n",
              "      <td>NaN</td>\n",
              "      <td>NaN</td>\n",
              "      <td>NaN</td>\n",
              "      <td>NaN</td>\n",
              "    </tr>\n",
              "    <tr>\n",
              "      <th>3</th>\n",
              "      <td>1,25393E+18</td>\n",
              "      <td>1,25393E+18</td>\n",
              "      <td>1,5878E+12</td>\n",
              "      <td>25/04/2020</td>\n",
              "      <td>06:23:48</td>\n",
              "      <td>UTC</td>\n",
              "      <td>4187275698</td>\n",
              "      <td>tirtoid</td>\n",
              "      <td>tirtoid</td>\n",
              "      <td>NaN</td>\n",
              "      <td>Belva Syah Devara, CEO Ruangguru, memang sudah...</td>\n",
              "      <td>pol</td>\n",
              "      <td>[]</td>\n",
              "      <td>['http://tirto.id/eVig']</td>\n",
              "      <td>[]</td>\n",
              "      <td>9</td>\n",
              "      <td>63</td>\n",
              "      <td>126</td>\n",
              "      <td>[]</td>\n",
              "      <td>[]</td>\n",
              "      <td>https://twitter.com/TirtoID/status/12539327042...</td>\n",
              "      <td>False</td>\n",
              "      <td>NaN</td>\n",
              "      <td>0</td>\n",
              "      <td>NaN</td>\n",
              "      <td>NaN</td>\n",
              "      <td>NaN</td>\n",
              "      <td>NaN</td>\n",
              "      <td>NaN</td>\n",
              "      <td>NaN</td>\n",
              "      <td>[{'user_id': '4187275698', 'username': 'TirtoI...</td>\n",
              "      <td>NaN</td>\n",
              "      <td>NaN</td>\n",
              "      <td>NaN</td>\n",
              "      <td>NaN</td>\n",
              "    </tr>\n",
              "    <tr>\n",
              "      <th>4</th>\n",
              "      <td>1,25391E+18</td>\n",
              "      <td>1,25391E+18</td>\n",
              "      <td>1,58779E+12</td>\n",
              "      <td>25/04/2020</td>\n",
              "      <td>05:00:00</td>\n",
              "      <td>UTC</td>\n",
              "      <td>4187275698</td>\n",
              "      <td>tirtoid</td>\n",
              "      <td>tirtoid</td>\n",
              "      <td>NaN</td>\n",
              "      <td>“Bisri Syansuri tak percaya akan pendekatan ‘p...</td>\n",
              "      <td>pol</td>\n",
              "      <td>[]</td>\n",
              "      <td>['http://tirto.id/c9V2']</td>\n",
              "      <td>['https://pbs.twimg.com/media/EWajaa0U4AAPTnm....</td>\n",
              "      <td>0</td>\n",
              "      <td>14</td>\n",
              "      <td>27</td>\n",
              "      <td>['#mozaiktirto']</td>\n",
              "      <td>[]</td>\n",
              "      <td>https://twitter.com/TirtoID/status/12539116161...</td>\n",
              "      <td>False</td>\n",
              "      <td>NaN</td>\n",
              "      <td>0</td>\n",
              "      <td>NaN</td>\n",
              "      <td>NaN</td>\n",
              "      <td>NaN</td>\n",
              "      <td>NaN</td>\n",
              "      <td>NaN</td>\n",
              "      <td>NaN</td>\n",
              "      <td>[{'user_id': '4187275698', 'username': 'TirtoI...</td>\n",
              "      <td>NaN</td>\n",
              "      <td>NaN</td>\n",
              "      <td>NaN</td>\n",
              "      <td>NaN</td>\n",
              "    </tr>\n",
              "  </tbody>\n",
              "</table>\n",
              "</div>"
            ],
            "text/plain": [
              "            id conversation_id   created_at  ... translate trans_src trans_dest\n",
              "0  1,25395E+18     1,25395E+18   1,5878E+12  ...       NaN       NaN        NaN\n",
              "1  1,25394E+18     1,25394E+18   1,5878E+12  ...       NaN       NaN        NaN\n",
              "2  1,25394E+18     1,25394E+18   1,5878E+12  ...       NaN       NaN        NaN\n",
              "3  1,25393E+18     1,25393E+18   1,5878E+12  ...       NaN       NaN        NaN\n",
              "4  1,25391E+18     1,25391E+18  1,58779E+12  ...       NaN       NaN        NaN\n",
              "\n",
              "[5 rows x 35 columns]"
            ]
          },
          "metadata": {
            "tags": []
          },
          "execution_count": 174
        }
      ]
    },
    {
      "cell_type": "code",
      "metadata": {
        "id": "XM5uQr2Jp1ZB",
        "colab_type": "code",
        "colab": {
          "base_uri": "https://localhost:8080/",
          "height": 34
        },
        "outputId": "0eaa7a1d-f57d-4d82-a48f-c5952e3cf398"
      },
      "source": [
        "df_tirto.shape"
      ],
      "execution_count": 175,
      "outputs": [
        {
          "output_type": "execute_result",
          "data": {
            "text/plain": [
              "(150, 35)"
            ]
          },
          "metadata": {
            "tags": []
          },
          "execution_count": 175
        }
      ]
    },
    {
      "cell_type": "code",
      "metadata": {
        "id": "LmFIggp_sHPy",
        "colab_type": "code",
        "colab": {
          "base_uri": "https://localhost:8080/",
          "height": 266
        },
        "outputId": "8ab28c36-e426-4764-c968-aa8b1e16e4d0"
      },
      "source": [
        "df_tirto.category.value_counts().plot(kind='pie', autopct='%1.0f%%', colors=[\"red\", \"yellow\", \"green\"])"
      ],
      "execution_count": 177,
      "outputs": [
        {
          "output_type": "execute_result",
          "data": {
            "text/plain": [
              "<matplotlib.axes._subplots.AxesSubplot at 0x7f48c7761f28>"
            ]
          },
          "metadata": {
            "tags": []
          },
          "execution_count": 177
        },
        {
          "output_type": "display_data",
          "data": {
            "image/png": "[encoded data removed]",
            "text/plain": [
              "<Figure size 432x288 with 1 Axes>"
            ]
          },
          "metadata": {
            "tags": []
          }
        }
      ]
    },
    {
      "cell_type": "code",
      "metadata": {
        "id": "_0JweGBgp-Mt",
        "colab_type": "code",
        "colab": {}
      },
      "source": [
        "tweet = df_tirto['tweet']\n",
        "category = df_tirto['category']"
      ],
      "execution_count": 0,
      "outputs": []
    },
    {
      "cell_type": "markdown",
      "metadata": {
        "id": "dVqal_fEzujA",
        "colab_type": "text"
      },
      "source": [
        "#Preprocessing"
      ]
    },
    {
      "cell_type": "code",
      "metadata": {
        "id": "s4TKNwvMqsbH",
        "colab_type": "code",
        "colab": {}
      },
      "source": [
        "import string \n",
        "import re"
      ],
      "execution_count": 0,
      "outputs": []
    },
    {
      "cell_type": "code",
      "metadata": {
        "id": "DHx41fusqx9G",
        "colab_type": "code",
        "colab": {}
      },
      "source": [
        "from nltk.tokenize import TweetTokenizer"
      ],
      "execution_count": 0,
      "outputs": []
    },
    {
      "cell_type": "code",
      "metadata": {
        "id": "GE7SrLTKrIOM",
        "colab_type": "code",
        "colab": {
          "base_uri": "https://localhost:8080/",
          "height": 70
        },
        "outputId": "78a0b1f4-f36d-4b0b-f6a7-0296e1840053"
      },
      "source": [
        "import nltk\n",
        "from nltk.corpus import stopwords\n",
        "nltk.download('stopwords')"
      ],
      "execution_count": 45,
      "outputs": [
        {
          "output_type": "stream",
          "text": [
            "[nltk_data] Downloading package stopwords to /root/nltk_data...\n",
            "[nltk_data]   Unzipping corpora/stopwords.zip.\n"
          ],
          "name": "stdout"
        },
        {
          "output_type": "execute_result",
          "data": {
            "text/plain": [
              "True"
            ]
          },
          "metadata": {
            "tags": []
          },
          "execution_count": 45
        }
      ]
    },
    {
      "cell_type": "code",
      "metadata": {
        "id": "yLGqWagrrZYl",
        "colab_type": "code",
        "colab": {
          "base_uri": "https://localhost:8080/",
          "height": 125
        },
        "outputId": "d88ef85a-5e0d-4350-8261-780685e50800"
      },
      "source": [
        "!pip install Sastrawi"
      ],
      "execution_count": 47,
      "outputs": [
        {
          "output_type": "stream",
          "text": [
            "Collecting Sastrawi\n",
            "\u001b[?25l  Downloading https://files.pythonhosted.org/packages/6f/4b/bab676953da3103003730b8fcdfadbdd20f333d4add10af949dd5c51e6ed/Sastrawi-1.0.1-py2.py3-none-any.whl (209kB)\n",
            "\r\u001b[K     |█▋                              | 10kB 20.2MB/s eta 0:00:01\r\u001b[K     |███▏                            | 20kB 3.1MB/s eta 0:00:01\r\u001b[K     |████▊                           | 30kB 4.4MB/s eta 0:00:01\r\u001b[K     |██████▎                         | 40kB 2.9MB/s eta 0:00:01\r\u001b[K     |███████▉                        | 51kB 3.6MB/s eta 0:00:01\r\u001b[K     |█████████▍                      | 61kB 4.3MB/s eta 0:00:01\r\u001b[K     |███████████                     | 71kB 4.9MB/s eta 0:00:01\r\u001b[K     |████████████▌                   | 81kB 3.8MB/s eta 0:00:01\r\u001b[K     |██████████████                  | 92kB 4.3MB/s eta 0:00:01\r\u001b[K     |███████████████▋                | 102kB 4.7MB/s eta 0:00:01\r\u001b[K     |█████████████████▏              | 112kB 4.7MB/s eta 0:00:01\r\u001b[K     |██████████████████▊             | 122kB 4.7MB/s eta 0:00:01\r\u001b[K     |████████████████████▎           | 133kB 4.7MB/s eta 0:00:01\r\u001b[K     |█████████████████████▉          | 143kB 4.7MB/s eta 0:00:01\r\u001b[K     |███████████████████████▍        | 153kB 4.7MB/s eta 0:00:01\r\u001b[K     |█████████████████████████       | 163kB 4.7MB/s eta 0:00:01\r\u001b[K     |██████████████████████████▋     | 174kB 4.7MB/s eta 0:00:01\r\u001b[K     |████████████████████████████▏   | 184kB 4.7MB/s eta 0:00:01\r\u001b[K     |█████████████████████████████▊  | 194kB 4.7MB/s eta 0:00:01\r\u001b[K     |███████████████████████████████▎| 204kB 4.7MB/s eta 0:00:01\r\u001b[K     |████████████████████████████████| 215kB 4.7MB/s \n",
            "\u001b[?25hInstalling collected packages: Sastrawi\n",
            "Successfully installed Sastrawi-1.0.1\n"
          ],
          "name": "stdout"
        }
      ]
    },
    {
      "cell_type": "code",
      "metadata": {
        "id": "Il7gqpn2rMd6",
        "colab_type": "code",
        "colab": {}
      },
      "source": [
        "import Sastrawi\n",
        "from Sastrawi.Stemmer.StemmerFactory import StemmerFactory"
      ],
      "execution_count": 0,
      "outputs": []
    },
    {
      "cell_type": "code",
      "metadata": {
        "id": "hFUtZORprpx4",
        "colab_type": "code",
        "colab": {}
      },
      "source": [
        "from sklearn.model_selection import StratifiedKFold, KFold, cross_val_score, GridSearchCV, RandomizedSearchCV, train_test_split\n",
        "from sklearn.linear_model import LogisticRegression\n",
        "from sklearn.pipeline import Pipeline\n",
        "from sklearn.naive_bayes import MultinomialNB\n",
        "from sklearn.feature_extraction.text import CountVectorizer, TfidfVectorizer, TfidfTransformer\n",
        "from sklearn.metrics import f1_score, make_scorer,accuracy_score, classification_report\n",
        "from sklearn import tree\n",
        "from sklearn.ensemble import RandomForestClassifier\n",
        "from sklearn.neighbors import KNeighborsClassifier\n",
        "from xgboost import XGBClassifier\n",
        "from sklearn.svm import LinearSVC"
      ],
      "execution_count": 0,
      "outputs": []
    },
    {
      "cell_type": "code",
      "metadata": {
        "id": "5Fz6evcyywRI",
        "colab_type": "code",
        "colab": {
          "base_uri": "https://localhost:8080/",
          "height": 107
        },
        "outputId": "eb9ba9a2-2569-4426-ca2f-5f9e392cd5ff"
      },
      "source": [
        "from imblearn.over_sampling import RandomOverSampler\n",
        "from imblearn.combine import SMOTEENN\n",
        "from imblearn.over_sampling import SMOTE"
      ],
      "execution_count": 154,
      "outputs": [
        {
          "output_type": "stream",
          "text": [
            "/usr/local/lib/python3.6/dist-packages/sklearn/externals/six.py:31: FutureWarning: The module is deprecated in version 0.21 and will be removed in version 0.23 since we've dropped support for Python 2.7. Please rely on the official version of six (https://pypi.org/project/six/).\n",
            "  \"(https://pypi.org/project/six/).\", FutureWarning)\n",
            "/usr/local/lib/python3.6/dist-packages/sklearn/utils/deprecation.py:144: FutureWarning: The sklearn.neighbors.base module is  deprecated in version 0.22 and will be removed in version 0.24. The corresponding classes / functions should instead be imported from sklearn.neighbors. Anything that cannot be imported from sklearn.neighbors is now part of the private API.\n",
            "  warnings.warn(message, FutureWarning)\n"
          ],
          "name": "stderr"
        }
      ]
    },
    {
      "cell_type": "code",
      "metadata": {
        "id": "6lqR-xC_qKjr",
        "colab_type": "code",
        "colab": {}
      },
      "source": [
        "X_low = tweet.str.lower()\n",
        "X_num = X_low.apply(lambda x: re.sub(r\"\\d+\", \"\", str(x)))\n",
        "X_sign = X_num.apply(lambda x: re.sub(r'\\W', ' ', str(x)))\n",
        "X_white = X_sign.str.strip()"
      ],
      "execution_count": 0,
      "outputs": []
    },
    {
      "cell_type": "code",
      "metadata": {
        "id": "yx__gTTKqyhL",
        "colab_type": "code",
        "colab": {}
      },
      "source": [
        "tweet_tokenizer = TweetTokenizer()\n",
        "tweet_tokens = X_white.apply(lambda x: tweet_tokenizer.tokenize(x))\n",
        "tweet_tokens2 = tweet_tokens.apply(lambda x: [y for y in x if 'http' not in y])\n",
        "tweet_tokens3 = tweet_tokens2.apply(lambda x: [y for y in x if 'pictwitter' not in y])"
      ],
      "execution_count": 0,
      "outputs": []
    },
    {
      "cell_type": "code",
      "metadata": {
        "id": "tMG0kCaLrL4Z",
        "colab_type": "code",
        "colab": {}
      },
      "source": [
        "listStopword = list(stopwords.words('indonesian'))\n",
        "tokens = tweet_tokens3.apply(lambda x: [w for w in x if w not in listStopword])"
      ],
      "execution_count": 0,
      "outputs": []
    },
    {
      "cell_type": "code",
      "metadata": {
        "id": "RdOv-Renrav8",
        "colab_type": "code",
        "colab": {}
      },
      "source": [
        "factory = StemmerFactory()\n",
        "stemmer = factory.create_stemmer()\n",
        "for k in tokens:\n",
        "    for l in k: \n",
        "      l = stemmer.stem(l)"
      ],
      "execution_count": 0,
      "outputs": []
    },
    {
      "cell_type": "code",
      "metadata": {
        "id": "B0fQUvv_s0lL",
        "colab_type": "code",
        "colab": {}
      },
      "source": [
        "X_train,X_test,y_train,y_test = train_test_split(tokens,category,test_size=0.3)"
      ],
      "execution_count": 0,
      "outputs": []
    },
    {
      "cell_type": "markdown",
      "metadata": {
        "id": "cMBO5eTV0Wc3",
        "colab_type": "text"
      },
      "source": [
        "# Modelling"
      ]
    },
    {
      "cell_type": "code",
      "metadata": {
        "id": "kO2q4GIsSs-X",
        "colab_type": "code",
        "colab": {}
      },
      "source": [
        "import numpy as np"
      ],
      "execution_count": 0,
      "outputs": []
    },
    {
      "cell_type": "code",
      "metadata": {
        "id": "PpZFlQ2Hrgt4",
        "colab_type": "code",
        "colab": {}
      },
      "source": [
        "def identity_tokenizer(text):\n",
        "    return text\n",
        "    \n",
        "text_clf = Pipeline([('vect', TfidfVectorizer(tokenizer=identity_tokenizer, lowercase=False)),\n",
        "                     ('clf', MultinomialNB()),\n",
        "                     ])\n",
        "tuned_parameters = {\n",
        "    'vect__min_df': [5,6,7,8,9,10], \n",
        "    'vect__max_df': [0.25, 0.5, 0.75], \n",
        "    'vect__sublinear_tf': [True, False], \n",
        "    'vect__smooth_idf': [True, False],\n",
        "    'vect__use_idf': [True, False], \n",
        "    'vect__analyzer': ['word', 'char', 'char_wb'], \n",
        "    'vect__norm': ['l1','l2'],\n",
        "    'vect__ngram_range' : [(1, 1), (1, 2), (1, 3), (1,4), (1, 5),(1, 6)],\n",
        "    'vect__use_idf': (True, False),\n",
        "    'vect__norm': ('l1', 'l2'),\n",
        "    'clf__alpha': np.linspace(0.5, 1.5, 6),\n",
        "    'clf__fit_prior': [True, False],  \n",
        "    # 'clf__bootstrap': [True, False],\n",
        "    # 'clf__max_depth': [10, 20, 30, 40, 50, 60, 70, 80, 90, 100, None],\n",
        "    # 'clf__max_features': ['auto', 'sqrt'],\n",
        "    # 'clf__min_samples_leaf': [1, 2, 4],\n",
        "    # 'clf__min_samples_split': [2, 5, 10],\n",
        "    # 'clf__n_estimators': [16, 32, 64, 128, 256]\n",
        "}"
      ],
      "execution_count": 0,
      "outputs": []
    },
    {
      "cell_type": "code",
      "metadata": {
        "id": "yRdBj9hrrlMn",
        "colab_type": "code",
        "colab": {
          "base_uri": "https://localhost:8080/",
          "height": 970
        },
        "outputId": "27c2a778-d664-43cd-8c30-a6477fa521a7"
      },
      "source": [
        "clf = RandomizedSearchCV(text_clf, tuned_parameters, cv=5, n_iter=50,scoring=make_scorer(f1_score,average='weighted'))\n",
        "clf.fit(X_train, y_train)\n",
        "\n",
        "\n",
        "print(clf.best_params_)\n",
        "best_clf = clf.best_estimator_"
      ],
      "execution_count": 369,
      "outputs": [
        {
          "output_type": "stream",
          "text": [
            "/usr/local/lib/python3.6/dist-packages/sklearn/model_selection/_validation.py:536: FitFailedWarning: Estimator fit failed. The score on this train-test partition for these parameters will be set to nan. Details: \n",
            "TypeError: expected string or bytes-like object\n",
            "\n",
            "  FitFailedWarning)\n",
            "/usr/local/lib/python3.6/dist-packages/sklearn/model_selection/_validation.py:536: FitFailedWarning: Estimator fit failed. The score on this train-test partition for these parameters will be set to nan. Details: \n",
            "TypeError: expected string or bytes-like object\n",
            "\n",
            "  FitFailedWarning)\n",
            "/usr/local/lib/python3.6/dist-packages/sklearn/model_selection/_validation.py:536: FitFailedWarning: Estimator fit failed. The score on this train-test partition for these parameters will be set to nan. Details: \n",
            "TypeError: expected string or bytes-like object\n",
            "\n",
            "  FitFailedWarning)\n",
            "/usr/local/lib/python3.6/dist-packages/sklearn/model_selection/_validation.py:536: FitFailedWarning: Estimator fit failed. The score on this train-test partition for these parameters will be set to nan. Details: \n",
            "TypeError: expected string or bytes-like object\n",
            "\n",
            "  FitFailedWarning)\n",
            "/usr/local/lib/python3.6/dist-packages/sklearn/model_selection/_validation.py:536: FitFailedWarning: Estimator fit failed. The score on this train-test partition for these parameters will be set to nan. Details: \n",
            "TypeError: expected string or bytes-like object\n",
            "\n",
            "  FitFailedWarning)\n",
            "/usr/local/lib/python3.6/dist-packages/sklearn/model_selection/_validation.py:536: FitFailedWarning: Estimator fit failed. The score on this train-test partition for these parameters will be set to nan. Details: \n",
            "TypeError: expected string or bytes-like object\n",
            "\n",
            "  FitFailedWarning)\n",
            "/usr/local/lib/python3.6/dist-packages/sklearn/model_selection/_validation.py:536: FitFailedWarning: Estimator fit failed. The score on this train-test partition for these parameters will be set to nan. Details: \n",
            "TypeError: expected string or bytes-like object\n",
            "\n",
            "  FitFailedWarning)\n",
            "/usr/local/lib/python3.6/dist-packages/sklearn/model_selection/_validation.py:536: FitFailedWarning: Estimator fit failed. The score on this train-test partition for these parameters will be set to nan. Details: \n",
            "TypeError: expected string or bytes-like object\n",
            "\n",
            "  FitFailedWarning)\n",
            "/usr/local/lib/python3.6/dist-packages/sklearn/model_selection/_validation.py:536: FitFailedWarning: Estimator fit failed. The score on this train-test partition for these parameters will be set to nan. Details: \n",
            "TypeError: expected string or bytes-like object\n",
            "\n",
            "  FitFailedWarning)\n",
            "/usr/local/lib/python3.6/dist-packages/sklearn/model_selection/_validation.py:536: FitFailedWarning: Estimator fit failed. The score on this train-test partition for these parameters will be set to nan. Details: \n",
            "TypeError: expected string or bytes-like object\n",
            "\n",
            "  FitFailedWarning)\n",
            "/usr/local/lib/python3.6/dist-packages/sklearn/model_selection/_validation.py:536: FitFailedWarning: Estimator fit failed. The score on this train-test partition for these parameters will be set to nan. Details: \n",
            "TypeError: expected string or bytes-like object\n",
            "\n",
            "  FitFailedWarning)\n"
          ],
          "name": "stderr"
        },
        {
          "output_type": "stream",
          "text": [
            "{'vect__use_idf': True, 'vect__sublinear_tf': False, 'vect__smooth_idf': False, 'vect__norm': 'l2', 'vect__ngram_range': (1, 2), 'vect__min_df': 5, 'vect__max_df': 0.75, 'vect__analyzer': 'word', 'clf__fit_prior': True, 'clf__alpha': 0.9}\n"
          ],
          "name": "stdout"
        },
        {
          "output_type": "stream",
          "text": [
            "/usr/local/lib/python3.6/dist-packages/sklearn/model_selection/_validation.py:536: FitFailedWarning: Estimator fit failed. The score on this train-test partition for these parameters will be set to nan. Details: \n",
            "TypeError: expected string or bytes-like object\n",
            "\n",
            "  FitFailedWarning)\n",
            "/usr/local/lib/python3.6/dist-packages/sklearn/model_selection/_validation.py:536: FitFailedWarning: Estimator fit failed. The score on this train-test partition for these parameters will be set to nan. Details: \n",
            "TypeError: expected string or bytes-like object\n",
            "\n",
            "  FitFailedWarning)\n"
          ],
          "name": "stderr"
        }
      ]
    },
    {
      "cell_type": "code",
      "metadata": {
        "id": "UZi69rHysClP",
        "colab_type": "code",
        "colab": {
          "base_uri": "https://localhost:8080/",
          "height": 34
        },
        "outputId": "d9cc1f52-ec98-4c1d-f83f-04d148c8c23e"
      },
      "source": [
        "clf_score = cross_val_score(best_clf,X_train,y_train,cv=5,scoring=make_scorer(f1_score,average='weighted'))\n",
        "print(f'CLF Score: {clf_score.mean()} ± {clf_score.std()}')"
      ],
      "execution_count": 370,
      "outputs": [
        {
          "output_type": "stream",
          "text": [
            "CLF Score: 0.7268805801890649 ± 0.07162339892111245\n"
          ],
          "name": "stdout"
        }
      ]
    },
    {
      "cell_type": "code",
      "metadata": {
        "id": "E5FKNvhDsFTn",
        "colab_type": "code",
        "colab": {
          "base_uri": "https://localhost:8080/",
          "height": 248
        },
        "outputId": "ba6608d7-2623-47f5-d42c-668d166b2424"
      },
      "source": [
        "print(classification_report(y_test, best_clf.predict(X_test), digits=4))"
      ],
      "execution_count": 371,
      "outputs": [
        {
          "output_type": "stream",
          "text": [
            "              precision    recall  f1-score   support\n",
            "\n",
            "         agm     0.0000    0.0000    0.0000         1\n",
            "         pol     0.8889    0.5333    0.6667        15\n",
            "         sos     0.7778    0.9655    0.8615        29\n",
            "\n",
            "    accuracy                         0.8000        45\n",
            "   macro avg     0.5556    0.4996    0.5094        45\n",
            "weighted avg     0.7975    0.8000    0.7774        45\n",
            "\n"
          ],
          "name": "stdout"
        },
        {
          "output_type": "stream",
          "text": [
            "/usr/local/lib/python3.6/dist-packages/sklearn/metrics/_classification.py:1272: UndefinedMetricWarning: Precision and F-score are ill-defined and being set to 0.0 in labels with no predicted samples. Use `zero_division` parameter to control this behavior.\n",
            "  _warn_prf(average, modifier, msg_start, len(result))\n"
          ],
          "name": "stderr"
        }
      ]
    },
    {
      "cell_type": "code",
      "metadata": {
        "id": "s0uQ902cxw0A",
        "colab_type": "code",
        "colab": {
          "base_uri": "https://localhost:8080/",
          "height": 248
        },
        "outputId": "8ee3acfb-f52b-4d18-e0b7-268a452530bf"
      },
      "source": [
        "from imblearn.pipeline import make_pipeline as make_pipeline_imb\n",
        "pipe = make_pipeline_imb(TfidfVectorizer(tokenizer=identity_tokenizer, lowercase=False),\n",
        "                         TfidfTransformer(),\n",
        "                         SMOTE(k_neighbors=3),\n",
        "                         MultinomialNB())\n",
        "\n",
        "pipe.fit(X_train, y_train)\n",
        "print(classification_report(y_test, pipe.predict(X_test), digits=4))"
      ],
      "execution_count": 372,
      "outputs": [
        {
          "output_type": "stream",
          "text": [
            "              precision    recall  f1-score   support\n",
            "\n",
            "         agm     0.3333    1.0000    0.5000         1\n",
            "         pol     0.6000    0.8000    0.6857        15\n",
            "         sos     0.8636    0.6552    0.7451        29\n",
            "\n",
            "    accuracy                         0.7111        45\n",
            "   macro avg     0.5990    0.8184    0.6436        45\n",
            "weighted avg     0.7640    0.7111    0.7199        45\n",
            "\n"
          ],
          "name": "stdout"
        },
        {
          "output_type": "stream",
          "text": [
            "/usr/local/lib/python3.6/dist-packages/sklearn/utils/deprecation.py:87: FutureWarning: Function safe_indexing is deprecated; safe_indexing is deprecated in version 0.22 and will be removed in version 0.24.\n",
            "  warnings.warn(msg, category=FutureWarning)\n"
          ],
          "name": "stderr"
        }
      ]
    },
    {
      "cell_type": "code",
      "metadata": {
        "id": "jwcLiFhtQfmI",
        "colab_type": "code",
        "colab": {}
      },
      "source": [
        ""
      ],
      "execution_count": 0,
      "outputs": []
    }
  ]
}